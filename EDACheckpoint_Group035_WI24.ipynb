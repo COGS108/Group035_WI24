{
 "cells": [
  {
   "cell_type": "markdown",
   "metadata": {},
   "source": [
    "**If you lost points on the last checkpoint you can get them back by responding to TA/IA feedback**  \n",
    "\n",
    "Update/change the relevant sections where you lost those points, make sure you respond on GitHub Issues to your TA/IA to call their attention to the changes you made here.\n",
    "\n",
    "Please update your Timeline... no battle plan survives contact with the enemy, so make sure we understand how your plans have changed."
   ]
  },
  {
   "cell_type": "markdown",
   "metadata": {},
   "source": [
    "# COGS 108 - EDA Checkpoint"
   ]
  },
  {
   "cell_type": "markdown",
   "metadata": {},
   "source": [
    "# Names\n",
    "\n",
    "- Erick Amaro Hernandez\n",
    "- Sanjith Devineni\n",
    "- Alex Macias\n",
    "- Lawrence Ong\n",
    "- Mingyang Yao"
   ]
  },
  {
   "cell_type": "markdown",
   "metadata": {},
   "source": [
    "# Research Question"
   ]
  },
  {
   "cell_type": "markdown",
   "metadata": {},
   "source": [
    "Our question is: Does weight class, event (type of lift: squat, bench press, or deadlift), and gender affect the percentage(%) increase in attempt weight selection(amount of weight the competitor chooses for their next attempt)? For example, given that an athlete has lifted 100kg in an event defined previously, would something like gender or weight class influence whether they pick 105 kgs, 110 kgs, or more for their next attempt? \n"
   ]
  },
  {
   "cell_type": "markdown",
   "metadata": {},
   "source": [
    "## Background and Prior Work"
   ]
  },
  {
   "cell_type": "markdown",
   "metadata": {},
   "source": [
    "The sport of powerlifting consists of 3 main **events**. The squat, the bench press, and the deadlift. A powerlifting competition gives you 3 attempts at the squat, 3 for the bench press, and 3 for the deadlift, and per event, each attempt must be heavier than the last (within the event), with the max weight lifted in each event summing up to the competitor's \"**total**\" for a meet. \n",
    "\n",
    "When competing in a powerlifting competition, choosing how much weight you'll be lifting has a lot of factors incorporated into it such as your own ability to judge the difficulty of your previous attempts and how you performed on those attempts. As such, attempt selection is an incredibly important skill a powerlifter must attain if they want to be successful in the sport. Seasoned coaches in the sport suggest that attempts start at around 90% of an athlete's max in the event. With 5% jumps between attempts being suggested from attempt 1 to 2, and <3% between attempt 2 and 3. It is also noted that heavier jumps may occur in the last event, the deadlift, due to it being the most exciting event of a powerlifting meet and/or the unique rules that come from it being the final event of a meet. <a name=\"cite_note-1\"></a> [<sup>1</sup>](#cite_ref-1) \n",
    "\n",
    "Most of the hype around the deadlift event comes from it contributing on average >40% of an athelete's total regardless of gender according to a previous analysis of the dataset by Kaggle user Steven Wilson <a name=\"cite_ref-2\"></a>[<sup>2</sup>](#cite_note-2). The importance of a lifter's deadlift fuels our hypothesis that maybe this lift comes with even higher/riskier jumps in weight per attempt on average. Another thing we can learn from Wilson's analysis and build on is that a larger portion of Men's totals is made up by their bench press, with it making up around 25% of their total in comparison to female lifters where it only makes up 20%. The study also shows the almost trivial trend of a higher athlete body weight being associated with higher totals.\n",
    "\n",
    "The prior work mostly looks at statistics of powerlifting like athlete totals rather than seeing some psychology behind the sport. We set out to uncover unconscious biases in weight selection for each attempt. If we discover that these biases exist and are significant, then this would help athletes plan out their attempts more efficiently. Athletes could then choose to be more conservative if planning a risky jump (being concious that they may be susceptible to biases found in this project), potentially adding more pounds or kilograms to their meet total rather than failing their next attempt or vice versa if we find out that their category tend to play more conservative. \n",
    "\n",
    "[^](#cite_ref-1) Krawczyk, Bryce (6 August, 2023) So You Wanna Be a Powerlifter? Attempt Selection During a Meet. *BarBend.com* https://www.barbend.com/powerlifting-meet-attempt-selection/\n",
    "\n",
    "[^](#cite-ref2) Steven Wilson (23 Sept. 2020) Strength Differences in Powerlifting by Gender https://www.kaggle.com/code/stevenwilson8/strength-differences-in-powerlifting-by-gender\n"
   ]
  },
  {
   "cell_type": "markdown",
   "metadata": {},
   "source": [
    "# Hypothesis\n"
   ]
  },
  {
   "cell_type": "markdown",
   "metadata": {},
   "source": [
    "1. We believe there will be no difference between genders when it comes to attempt selection in general. We think this because the different distributions of weight selection a per-event basis will balance eachother out to be equal when comparing just by gender. For example, although women may choose higher squat attempts, their bench attempts will might be lower and vice versa for men.\n",
    "2. The deadlift will have the higher jumps due to the hype around the amount of weight lifted and it being the main contributor to an athlete's total.\n",
    "3. Following from the last prediction, and from Wilson's past research on contribution of an event to an athlete's total, we predict that on a per-event basis there will be a difference between men and women's jumps, e.g. since more of men's totals is made up of the bench press, they might have higher jumps than women in the bench press.\n",
    "4. Based off our previous hypothesis and because heavier weight classes lift more weight, we think weight class will also effect % of weight increase.\n"
   ]
  },
  {
   "cell_type": "markdown",
   "metadata": {},
   "source": [
    "# Data"
   ]
  },
  {
   "cell_type": "markdown",
   "metadata": {},
   "source": [
    "## Data overview\n",
    "\n",
    "For each dataset include the following information\n",
    "- Dataset #1\n",
    "  - Dataset Name: Open Powerlifting Database\n",
    "  - Link to the dataset: https://www.kaggle.com/datasets/open-powerlifting/powerlifting-database\n",
    "  - Number of observations: 3,043,013\n",
    "  - Number of variables: 38\n",
    "\n",
    "The Openpowerlifting dataset is a collection of archived powerlifting competition results from 1946 - 1/1/2023.\n",
    "\n",
    "Every row of the OpenPowerlifting dataset consists of a record of how a lifter did during a competition. A row contains their age/weight data, what events they decided to compete in, whether they competed Equipped (certain competitions dont allow certain equipment to be used during a lift), geographic data like country,state,town, as well as the name of the Competition. It also includes rows of different scoring systems that take weight, gender, and total lifted in order to compare one's performance to another across varying weight/sex classes. All weight data is stored in Kilograms.\n",
    "\n",
    "Powerlifting is a sport where the philosophy behind the sport varies drastically. As such, there are results from 300+ federations in this dataset with their own rules behind what counts as a \"valid lift\". This also includes each federation having their own weight classes. Thankfully, the raw bodyweight a lifter weighed in at on the day of the competition is included as one of the columns, and 5 different scores are precomputed as columns if a lifter's performance was able to be scored.\n",
    "\n",
    "In order to compare lifters in this dataset, we will standardize to one weight class category, and one scoring system. Weight classes will be standardized to those that the International Powerlifting Federation uses (with some caveats, since the cutoffs are different for Female and Male lifters). DOTS will be our selected scoring system because it does not require that an athlete complete all 3 lifts to be calculated and is actively used today.\n",
    "\n",
    "We also need to calculate the jumps between a lifter's Squat 1 and Squat 2 attempt, which will be calculated in the following section. In this dataset, a failed attempt is set to the negative of the attempt weight. This means if there is a -100 in the Squat1Kg column, the lifter attempted 100kg and failed the attempt. Even if an attempt is failed, they are not allowed to lower the weight for the next attempt, so these 0% jumps should be ignored as to not skew any averages we compute."
   ]
  },
  {
   "cell_type": "markdown",
   "metadata": {},
   "source": [
    "## Openpowerlifting Database"
   ]
  },
  {
   "cell_type": "code",
   "execution_count": 1,
   "metadata": {},
   "outputs": [
    {
     "name": "stderr",
     "output_type": "stream",
     "text": [
      "C:\\Users\\Erick\\AppData\\Local\\Temp\\ipykernel_7572\\3511301325.py:2: DeprecationWarning: \n",
      "Pyarrow will become a required dependency of pandas in the next major release of pandas (pandas 3.0),\n",
      "(to allow more performant data types, such as the Arrow string type, and better interoperability with other libraries)\n",
      "but was not found to be installed on your system.\n",
      "If this would cause problems for you,\n",
      "please provide us feedback at https://github.com/pandas-dev/pandas/issues/54466\n",
      "        \n",
      "  import pandas as pd\n",
      "C:\\Users\\Erick\\AppData\\Local\\Temp\\ipykernel_7572\\3511301325.py:3: DtypeWarning: Columns (31,33,35,38) have mixed types. Specify dtype option on import or set low_memory=False.\n",
      "  df = pd.read_csv(\"./dataset/pl_data.csv\")\n"
     ]
    },
    {
     "data": {
      "text/plain": [
       "(3043013, 41)"
      ]
     },
     "execution_count": 1,
     "metadata": {},
     "output_type": "execute_result"
    }
   ],
   "source": [
    "import numpy as np\n",
    "import pandas as pd\n",
    "df = pd.read_csv(\"./dataset/pl_data.csv\")\n",
    "df.shape"
   ]
  },
  {
   "cell_type": "markdown",
   "metadata": {},
   "source": [
    "## NaN values\n",
    "\n",
    "Differences between how federations categorize their lifters are shown here, some recorded an age (Age), or just the range in which they fell into (AgeClass), some decide to combine the two in a \"Division\" column. There is also the \"Tested\" column which indicates whether or not athletes were drug tested, which is True if they were, NaN if they werent. Some Federations do not test for PEDs.\n",
    "\n",
    "Attempt values like Squat\\[1-3\\]kg are NaN if an athlete did not show up, or if an athlete decided to not do 3 attempts. There is also a 4th attempt column in the dataset, which is when there is an error in competition organization and the lifter is granted an extra attempt. \n",
    "\n",
    "BodyweightKg is also null if someone is No-Show to a competition."
   ]
  },
  {
   "cell_type": "code",
   "execution_count": 2,
   "metadata": {},
   "outputs": [
    {
     "data": {
      "text/plain": [
       "Name                      0\n",
       "Sex                       0\n",
       "Event                     0\n",
       "Equipment                 0\n",
       "Age                 1070337\n",
       "AgeClass             814256\n",
       "BirthYearClass      1000666\n",
       "Division               1435\n",
       "BodyweightKg          38368\n",
       "WeightClassKg         40757\n",
       "Squat1Kg            2137906\n",
       "Squat2Kg            2147142\n",
       "Squat3Kg            2171053\n",
       "Squat4Kg            3034560\n",
       "Best3SquatKg        1009169\n",
       "Bench1Kg            1652910\n",
       "Bench2Kg            1668528\n",
       "Bench3Kg            1710945\n",
       "Bench4Kg            3022026\n",
       "Best3BenchKg         358566\n",
       "Deadlift1Kg         2021904\n",
       "Deadlift2Kg         2039602\n",
       "Deadlift3Kg         2080157\n",
       "Deadlift4Kg         3020077\n",
       "Best3DeadliftKg      836823\n",
       "TotalKg              202421\n",
       "Place                     0\n",
       "Dots                 227397\n",
       "Wilks                227397\n",
       "Glossbrenner         227397\n",
       "Goodlift             476889\n",
       "Tested               804298\n",
       "Country             1284501\n",
       "State               2408023\n",
       "Federation                0\n",
       "ParentFederation    1068468\n",
       "Date                      0\n",
       "MeetCountry               0\n",
       "MeetState            859344\n",
       "MeetTown             411193\n",
       "MeetName                  0\n",
       "dtype: int64"
      ]
     },
     "execution_count": 2,
     "metadata": {},
     "output_type": "execute_result"
    }
   ],
   "source": [
    "df.isna().sum()"
   ]
  },
  {
   "cell_type": "markdown",
   "metadata": {},
   "source": [
    "## Anomalies \n",
    "There are also some rows that are anomalies. The following competitor competed in a Bench Press/Deadlift-only competition, yet is missing bodyweight and has a best bench despite not having any Bench\\[1,2,3\\]Kg values filled in. It is important to note there is no official way to keep track of powerlifting events, so each is recorded differently through either a Excel- and we're subject to errors in data entry."
   ]
  },
  {
   "cell_type": "code",
   "execution_count": 3,
   "metadata": {},
   "outputs": [
    {
     "data": {
      "text/plain": [
       "Name                              Fabricio Ubirajara de Assis\n",
       "Sex                                                         M\n",
       "Event                                                       B\n",
       "Equipment                                                 Raw\n",
       "Age                                                       NaN\n",
       "AgeClass                                                  NaN\n",
       "BirthYearClass                                          40-49\n",
       "Division                                                   MO\n",
       "BodyweightKg                                              NaN\n",
       "WeightClassKg                                            140+\n",
       "Squat1Kg                                                  NaN\n",
       "Squat2Kg                                                  NaN\n",
       "Squat3Kg                                                  NaN\n",
       "Squat4Kg                                                  NaN\n",
       "Best3SquatKg                                              NaN\n",
       "Bench1Kg                                                  NaN\n",
       "Bench2Kg                                                  NaN\n",
       "Bench3Kg                                                  NaN\n",
       "Bench4Kg                                                  NaN\n",
       "Best3BenchKg                                            200.0\n",
       "Deadlift1Kg                                               NaN\n",
       "Deadlift2Kg                                               NaN\n",
       "Deadlift3Kg                                               NaN\n",
       "Deadlift4Kg                                               NaN\n",
       "Best3DeadliftKg                                           NaN\n",
       "TotalKg                                                 200.0\n",
       "Place                                                       1\n",
       "Dots                                                      NaN\n",
       "Wilks                                                     NaN\n",
       "Glossbrenner                                              NaN\n",
       "Goodlift                                                  NaN\n",
       "Tested                                                    NaN\n",
       "Country                                                   NaN\n",
       "State                                                     NaN\n",
       "Federation                                            CONBRAP\n",
       "ParentFederation                                          GPC\n",
       "Date                                               2018-04-14\n",
       "MeetCountry                                            Brazil\n",
       "MeetState                                                 NaN\n",
       "MeetTown                                                  Jaú\n",
       "MeetName            Campeonato Paulista de Supino e Lev.Terra\n",
       "Name: 579, dtype: object"
      ]
     },
     "execution_count": 3,
     "metadata": {},
     "output_type": "execute_result"
    }
   ],
   "source": [
    "df[df['Name'] == \"Fabricio Ubirajara de Assis\"].iloc[0]"
   ]
  },
  {
   "cell_type": "markdown",
   "metadata": {},
   "source": [
    "## Dropping Data\n",
    "\n",
    "Since we are looking at attempt selection, we will be dropping any rows where the lifter signed up, but didn't compete. These can be found by those rows with NaN in their 1st attempt of every event, as well as those whose placement in a competition was \"NS\", for \"no-show\". \n"
   ]
  },
  {
   "cell_type": "code",
   "execution_count": 4,
   "metadata": {},
   "outputs": [],
   "source": [
    "#Filter out any rows where there is no lift data, or lifter was no-show to the competition\n",
    "df = df.drop(['Goodlift','Wilks','Glossbrenner'], axis=1)\n",
    "df = df[~((df['Squat1Kg'].isna()) & (df['Bench1Kg'].isna()) & (df['Deadlift1Kg'].isna()))]\n",
    "df = df[df['Place'] != 'NS']"
   ]
  },
  {
   "cell_type": "markdown",
   "metadata": {},
   "source": [
    "## Standardizing Weight classes\n",
    "\n",
    "Earlier we discussed how there are 300+ federations, each with possibly their own defined weight classes. In this study, we will standardize the weight classes used by the International Powerlifting Federation, which hosts world championships, and can be seen as a \"Parent Federation\" in the dataset for federations worldwide, this means they all follow and conform to IPF guidelines to some degree. It's popularity worldwide made us choose it for this standardization. \n",
    "\n",
    "The weight classes are as follows, defined on [page 4 of the IPF rulebook](https://www.powerlifting.sport/fileadmin/ipf/data/rules/technical-rules/english/IPF_Technical_Rules_Book_2023__1_.pdf). A weight class like 80kg means you weigh under 80kg, but over the next smallest weight class. \n",
    "\n",
    "- Men\n",
    "    - \\[59kg, 66kg, 74kg, 83kg, 93kg, 105kg, 120kg, 120+kg\\]\n",
    "- Women\n",
    "    - \\[47kg, 52kg, 57kg, 63kg, 69kg, 76kg, 84kg, 84+kg\\]\n",
    " \n",
    "This however excludes people who do not identify as either (labeled as Mx in federations who support this), so we will merge the two categorizations to account for more bodyweights and identities. The following is the resulting weight classes, we use men's weight classes and append any lower weight classes that the women's classes support.\n",
    "\n",
    "\\[43kg, 47kg, 53kg, 59kg, 66kg, 74kg, 83kg, 93kg, 105kg, 120kg, 120+kg\\]"
   ]
  },
  {
   "cell_type": "code",
   "execution_count": 5,
   "metadata": {},
   "outputs": [],
   "source": [
    "#Standardizing weight classes\n",
    "def standardize_weight_class(weight):\n",
    "    if weight == np.nan:\n",
    "        return np.nan\n",
    "    \n",
    "    combined_ipf_classes = [43, 47, 53, 59, 66, 74, 83, 93, 105, 120]\n",
    "\n",
    "    unlimited_class = str(combined_ipf_classes[-1]) + \"+\"\n",
    "    for weight_class in combined_ipf_classes:\n",
    "        if weight < weight_class:\n",
    "            return str(weight_class)\n",
    "\n",
    "    return unlimited_class\n",
    "\n",
    "df['WeightClassKg'] = df['BodyweightKg'].apply(standardize_weight_class)"
   ]
  },
  {
   "cell_type": "code",
   "execution_count": 6,
   "metadata": {},
   "outputs": [
    {
     "data": {
      "text/plain": [
       "WeightClassKg\n",
       "83      278594\n",
       "93      243159\n",
       "105     218003\n",
       "74      215414\n",
       "120     152866\n",
       "66      143427\n",
       "120+    105640\n",
       "59       99374\n",
       "53       55073\n",
       "47       14903\n",
       "43        6980\n",
       "Name: count, dtype: int64"
      ]
     },
     "execution_count": 6,
     "metadata": {},
     "output_type": "execute_result"
    }
   ],
   "source": [
    "df['WeightClassKg'].value_counts()"
   ]
  },
  {
   "cell_type": "code",
   "execution_count": 7,
   "metadata": {},
   "outputs": [],
   "source": [
    "df_absolute_value = df[['Squat1Kg','Squat2Kg','Squat3Kg','Bench1Kg','Bench2Kg','Bench3Kg','Deadlift1Kg','Deadlift2Kg','Deadlift3Kg']].abs()\n",
    "\n",
    "df['squat12_percent_increase'] = ((df_absolute_value['Squat2Kg'] - df_absolute_value['Squat1Kg']) / df_absolute_value['Squat1Kg'])\n",
    "df['squat23_percent_increase'] = ((df_absolute_value['Squat3Kg'] - df_absolute_value['Squat2Kg']) / df_absolute_value['Squat2Kg'])\n",
    "\n",
    "df['bench12_percent_increase'] = ((df_absolute_value['Bench2Kg'] - df_absolute_value['Bench1Kg']) / df_absolute_value['Bench1Kg'])\n",
    "df['bench23_percent_increase'] = ((df_absolute_value['Bench3Kg'] - df_absolute_value['Bench2Kg']) / df_absolute_value['Bench2Kg'])\n",
    "\n",
    "df['Deadlift12_percent_increase'] = ((df_absolute_value['Deadlift2Kg'] - df_absolute_value['Deadlift1Kg']) / df_absolute_value['Deadlift1Kg'])\n",
    "df['Deadlift23_percent_increase'] = ((df_absolute_value['Deadlift3Kg'] - df_absolute_value['Deadlift2Kg']) / df_absolute_value['Deadlift2Kg'])\n"
   ]
  },
  {
   "cell_type": "code",
   "execution_count": 8,
   "metadata": {},
   "outputs": [],
   "source": [
    "def isNoIncrease(weightPercent):\n",
    "    if weightPercent == 0:\n",
    "        return np.nan\n",
    "    else:\n",
    "        return weightPercent\n",
    "\n",
    "df['squat12_percent_increase'] = df['squat12_percent_increase'].apply(isNoIncrease)\n",
    "df['squat23_percent_increase'] = df['squat23_percent_increase'].apply(isNoIncrease)\n",
    "df['bench12_percent_increase'] = df['bench12_percent_increase'].apply(isNoIncrease)\n",
    "df['bench23_percent_increase'] = df['bench23_percent_increase'].apply(isNoIncrease)\n",
    "df['Deadlift12_percent_increase'] = df['Deadlift12_percent_increase'].apply(isNoIncrease)\n",
    "df['Deadlift23_percent_increase'] = df['Deadlift23_percent_increase'].apply(isNoIncrease)"
   ]
  },
  {
   "cell_type": "code",
   "execution_count": 9,
   "metadata": {},
   "outputs": [
    {
     "data": {
      "text/plain": [
       "Name                               Alona Vladi\n",
       "Sex                                          F\n",
       "Event                                      SBD\n",
       "Equipment                                  Raw\n",
       "Age                                       33.0\n",
       "AgeClass                                 24-34\n",
       "BirthYearClass                           24-39\n",
       "Division                                     O\n",
       "BodyweightKg                              58.3\n",
       "WeightClassKg                               59\n",
       "Squat1Kg                                  75.0\n",
       "Squat2Kg                                  80.0\n",
       "Squat3Kg                                 -90.0\n",
       "Squat4Kg                                   NaN\n",
       "Best3SquatKg                              80.0\n",
       "Bench1Kg                                  50.0\n",
       "Bench2Kg                                  55.0\n",
       "Bench3Kg                                  60.0\n",
       "Bench4Kg                                   NaN\n",
       "Best3BenchKg                              60.0\n",
       "Deadlift1Kg                               95.0\n",
       "Deadlift2Kg                              105.0\n",
       "Deadlift3Kg                              107.5\n",
       "Deadlift4Kg                                NaN\n",
       "Best3DeadliftKg                          107.5\n",
       "TotalKg                                  247.5\n",
       "Place                                        1\n",
       "Dots                                    279.44\n",
       "Tested                                     Yes\n",
       "Country                                 Russia\n",
       "State                                      NaN\n",
       "Federation                                 GFP\n",
       "ParentFederation                           NaN\n",
       "Date                                2019-05-11\n",
       "MeetCountry                             Russia\n",
       "MeetState                                  NaN\n",
       "MeetTown                               Bryansk\n",
       "MeetName                       Open Tournament\n",
       "squat12_percent_increase              0.066667\n",
       "squat23_percent_increase                 0.125\n",
       "bench12_percent_increase                   0.1\n",
       "bench23_percent_increase              0.090909\n",
       "Deadlift12_percent_increase           0.105263\n",
       "Deadlift23_percent_increase            0.02381\n",
       "Name: 0, dtype: object"
      ]
     },
     "execution_count": 9,
     "metadata": {},
     "output_type": "execute_result"
    }
   ],
   "source": [
    "df.iloc[0]"
   ]
  },
  {
   "cell_type": "markdown",
   "metadata": {},
   "source": [
    "## Cleaning up extreme/not so extreme outliers\n",
    "\n",
    "We have a ton of anomalies when it comes to outliers as well, we believe this to be a result of the inconsistent data entry methods that happen across powerlifting competitions. As such, there are lifters with 100+% increases which is just not a good idea at all in a sport like powerlifting, and there are lifters with negative attempt % increases which shouldn't be allowed and could be a result of earlier days of powerlifting when the \"no going down in weight\" rule wasn't in place.\n",
    "\n",
    "We will use the common filter of 1.5 * IQR to get rid of these rows."
   ]
  },
  {
   "cell_type": "code",
   "execution_count": 10,
   "metadata": {},
   "outputs": [],
   "source": [
    "def clean_outliers(df_toclean, col):\n",
    "\n",
    "    #under no circumstances would anyone need a 100% increase\n",
    "    df_toclean = df_toclean[df_toclean[col] < 1]\n",
    "\n",
    "    #not possible to decrease weight, data entry error.\n",
    "    df_toclean = df_toclean[df_toclean[col] > 0]\n",
    "\n",
    "    Q1 = df_toclean[col].quantile(0.25)\n",
    "    Q3 = df_toclean[col].quantile(0.75)\n",
    "    IQR = Q3 - Q1\n",
    "    \n",
    "    upper_whisker = Q3 + (1.5 * IQR)\n",
    "    # Filter out the data points that are greater than the upper whisker value\n",
    "    df_toclean = df_toclean[df_toclean[col] <= upper_whisker]\n",
    "\n",
    "    return df_toclean\n"
   ]
  },
  {
   "cell_type": "code",
   "execution_count": 11,
   "metadata": {},
   "outputs": [
    {
     "data": {
      "text/html": [
       "<div>\n",
       "<style scoped>\n",
       "    .dataframe tbody tr th:only-of-type {\n",
       "        vertical-align: middle;\n",
       "    }\n",
       "\n",
       "    .dataframe tbody tr th {\n",
       "        vertical-align: top;\n",
       "    }\n",
       "\n",
       "    .dataframe thead th {\n",
       "        text-align: right;\n",
       "    }\n",
       "</style>\n",
       "<table border=\"1\" class=\"dataframe\">\n",
       "  <thead>\n",
       "    <tr style=\"text-align: right;\">\n",
       "      <th></th>\n",
       "      <th>squat12_percent_increase</th>\n",
       "      <th>squat23_percent_increase</th>\n",
       "      <th>bench12_percent_increase</th>\n",
       "      <th>bench23_percent_increase</th>\n",
       "      <th>Deadlift12_percent_increase</th>\n",
       "      <th>Deadlift23_percent_increase</th>\n",
       "    </tr>\n",
       "  </thead>\n",
       "  <tbody>\n",
       "    <tr>\n",
       "      <th>count</th>\n",
       "      <td>365540.000000</td>\n",
       "      <td>365540.000000</td>\n",
       "      <td>365540.000000</td>\n",
       "      <td>365540.000000</td>\n",
       "      <td>365540.000000</td>\n",
       "      <td>365540.000000</td>\n",
       "    </tr>\n",
       "    <tr>\n",
       "      <th>mean</th>\n",
       "      <td>0.062665</td>\n",
       "      <td>0.045007</td>\n",
       "      <td>0.065033</td>\n",
       "      <td>0.044954</td>\n",
       "      <td>0.064908</td>\n",
       "      <td>0.045368</td>\n",
       "    </tr>\n",
       "    <tr>\n",
       "      <th>std</th>\n",
       "      <td>0.021171</td>\n",
       "      <td>0.018599</td>\n",
       "      <td>0.023852</td>\n",
       "      <td>0.019750</td>\n",
       "      <td>0.021273</td>\n",
       "      <td>0.018787</td>\n",
       "    </tr>\n",
       "    <tr>\n",
       "      <th>min</th>\n",
       "      <td>0.000108</td>\n",
       "      <td>0.001563</td>\n",
       "      <td>0.003027</td>\n",
       "      <td>0.000952</td>\n",
       "      <td>0.002128</td>\n",
       "      <td>0.001449</td>\n",
       "    </tr>\n",
       "    <tr>\n",
       "      <th>25%</th>\n",
       "      <td>0.048193</td>\n",
       "      <td>0.031250</td>\n",
       "      <td>0.047619</td>\n",
       "      <td>0.031250</td>\n",
       "      <td>0.050000</td>\n",
       "      <td>0.031746</td>\n",
       "    </tr>\n",
       "    <tr>\n",
       "      <th>50%</th>\n",
       "      <td>0.060241</td>\n",
       "      <td>0.043478</td>\n",
       "      <td>0.062500</td>\n",
       "      <td>0.041667</td>\n",
       "      <td>0.062500</td>\n",
       "      <td>0.043478</td>\n",
       "    </tr>\n",
       "    <tr>\n",
       "      <th>75%</th>\n",
       "      <td>0.075000</td>\n",
       "      <td>0.056180</td>\n",
       "      <td>0.080000</td>\n",
       "      <td>0.055556</td>\n",
       "      <td>0.078431</td>\n",
       "      <td>0.057471</td>\n",
       "    </tr>\n",
       "    <tr>\n",
       "      <th>max</th>\n",
       "      <td>0.129477</td>\n",
       "      <td>0.100133</td>\n",
       "      <td>0.136778</td>\n",
       "      <td>0.109375</td>\n",
       "      <td>0.126087</td>\n",
       "      <td>0.098655</td>\n",
       "    </tr>\n",
       "  </tbody>\n",
       "</table>\n",
       "</div>"
      ],
      "text/plain": [
       "       squat12_percent_increase  squat23_percent_increase  \\\n",
       "count             365540.000000             365540.000000   \n",
       "mean                   0.062665                  0.045007   \n",
       "std                    0.021171                  0.018599   \n",
       "min                    0.000108                  0.001563   \n",
       "25%                    0.048193                  0.031250   \n",
       "50%                    0.060241                  0.043478   \n",
       "75%                    0.075000                  0.056180   \n",
       "max                    0.129477                  0.100133   \n",
       "\n",
       "       bench12_percent_increase  bench23_percent_increase  \\\n",
       "count             365540.000000             365540.000000   \n",
       "mean                   0.065033                  0.044954   \n",
       "std                    0.023852                  0.019750   \n",
       "min                    0.003027                  0.000952   \n",
       "25%                    0.047619                  0.031250   \n",
       "50%                    0.062500                  0.041667   \n",
       "75%                    0.080000                  0.055556   \n",
       "max                    0.136778                  0.109375   \n",
       "\n",
       "       Deadlift12_percent_increase  Deadlift23_percent_increase  \n",
       "count                365540.000000                365540.000000  \n",
       "mean                      0.064908                     0.045368  \n",
       "std                       0.021273                     0.018787  \n",
       "min                       0.002128                     0.001449  \n",
       "25%                       0.050000                     0.031746  \n",
       "50%                       0.062500                     0.043478  \n",
       "75%                       0.078431                     0.057471  \n",
       "max                       0.126087                     0.098655  "
      ]
     },
     "execution_count": 11,
     "metadata": {},
     "output_type": "execute_result"
    }
   ],
   "source": [
    "LIFT_INCREASE_COLUMNS = ['squat12_percent_increase','squat23_percent_increase', 'bench12_percent_increase', 'bench23_percent_increase', 'Deadlift12_percent_increase', 'Deadlift23_percent_increase']\n",
    "\n",
    "df = clean_outliers(df, 'bench23_percent_increase')\n",
    "df = clean_outliers(df, 'squat12_percent_increase')\n",
    "df = clean_outliers(df, 'squat23_percent_increase')\n",
    "df = clean_outliers(df, 'bench12_percent_increase')\n",
    "df = clean_outliers(df, 'Deadlift12_percent_increase')\n",
    "df = clean_outliers(df, 'Deadlift23_percent_increase')\n",
    "\n",
    "df[LIFT_INCREASE_COLUMNS].describe()"
   ]
  },
  {
   "cell_type": "markdown",
   "metadata": {},
   "source": [
    "# Results\n",
    "\n",
    "## Exploratory Data Analysis\n",
    "\n",
    "### Basic Stats\n",
    "\n",
    "We can first turn to the .head() and .describe() of our dataset, focusing on the columns describing lift increase, we can see some problems come up such as:\n",
    "\n",
    " - A negative increase?\n",
    " - Incredibly low bench increases\n",
    "\n",
    "All these shouldn't affect means too much, as they should be one-offs. This is another unfortunate result of each powerlifting competition having volunteers record results, with each competition using different software and thus such room for human input errors."
   ]
  },
  {
   "cell_type": "code",
   "execution_count": 12,
   "metadata": {},
   "outputs": [],
   "source": [
    "import seaborn as sns\n",
    "import matplotlib.pyplot as plt\n"
   ]
  },
  {
   "cell_type": "code",
   "execution_count": 13,
   "metadata": {},
   "outputs": [],
   "source": [
    "LIFT_INCREASE_COLUMNS = ['squat12_percent_increase','squat23_percent_increase', 'bench12_percent_increase', 'bench23_percent_increase', 'Deadlift12_percent_increase', 'Deadlift23_percent_increase']"
   ]
  },
  {
   "cell_type": "code",
   "execution_count": 14,
   "metadata": {},
   "outputs": [
    {
     "data": {
      "text/html": [
       "<div>\n",
       "<style scoped>\n",
       "    .dataframe tbody tr th:only-of-type {\n",
       "        vertical-align: middle;\n",
       "    }\n",
       "\n",
       "    .dataframe tbody tr th {\n",
       "        vertical-align: top;\n",
       "    }\n",
       "\n",
       "    .dataframe thead th {\n",
       "        text-align: right;\n",
       "    }\n",
       "</style>\n",
       "<table border=\"1\" class=\"dataframe\">\n",
       "  <thead>\n",
       "    <tr style=\"text-align: right;\">\n",
       "      <th></th>\n",
       "      <th>Name</th>\n",
       "      <th>Sex</th>\n",
       "      <th>Event</th>\n",
       "      <th>Equipment</th>\n",
       "      <th>Age</th>\n",
       "      <th>AgeClass</th>\n",
       "      <th>BirthYearClass</th>\n",
       "      <th>Division</th>\n",
       "      <th>BodyweightKg</th>\n",
       "      <th>WeightClassKg</th>\n",
       "      <th>...</th>\n",
       "      <th>MeetCountry</th>\n",
       "      <th>MeetState</th>\n",
       "      <th>MeetTown</th>\n",
       "      <th>MeetName</th>\n",
       "      <th>squat12_percent_increase</th>\n",
       "      <th>squat23_percent_increase</th>\n",
       "      <th>bench12_percent_increase</th>\n",
       "      <th>bench23_percent_increase</th>\n",
       "      <th>Deadlift12_percent_increase</th>\n",
       "      <th>Deadlift23_percent_increase</th>\n",
       "    </tr>\n",
       "  </thead>\n",
       "  <tbody>\n",
       "    <tr>\n",
       "      <th>1</th>\n",
       "      <td>Galina Solovyanova</td>\n",
       "      <td>F</td>\n",
       "      <td>SBD</td>\n",
       "      <td>Raw</td>\n",
       "      <td>43.0</td>\n",
       "      <td>40-44</td>\n",
       "      <td>40-49</td>\n",
       "      <td>M1</td>\n",
       "      <td>73.10</td>\n",
       "      <td>74</td>\n",
       "      <td>...</td>\n",
       "      <td>Russia</td>\n",
       "      <td>NaN</td>\n",
       "      <td>Bryansk</td>\n",
       "      <td>Open Tournament</td>\n",
       "      <td>0.052632</td>\n",
       "      <td>0.050000</td>\n",
       "      <td>0.080000</td>\n",
       "      <td>0.074074</td>\n",
       "      <td>0.100000</td>\n",
       "      <td>0.090909</td>\n",
       "    </tr>\n",
       "    <tr>\n",
       "      <th>3</th>\n",
       "      <td>Aleksey Krasov</td>\n",
       "      <td>M</td>\n",
       "      <td>SBD</td>\n",
       "      <td>Raw</td>\n",
       "      <td>35.0</td>\n",
       "      <td>35-39</td>\n",
       "      <td>24-39</td>\n",
       "      <td>O</td>\n",
       "      <td>66.65</td>\n",
       "      <td>74</td>\n",
       "      <td>...</td>\n",
       "      <td>Russia</td>\n",
       "      <td>NaN</td>\n",
       "      <td>Bryansk</td>\n",
       "      <td>Open Tournament</td>\n",
       "      <td>0.056000</td>\n",
       "      <td>0.041667</td>\n",
       "      <td>0.065217</td>\n",
       "      <td>0.040816</td>\n",
       "      <td>0.100000</td>\n",
       "      <td>0.030303</td>\n",
       "    </tr>\n",
       "    <tr>\n",
       "      <th>8</th>\n",
       "      <td>Ruslan Gasanov</td>\n",
       "      <td>M</td>\n",
       "      <td>SBD</td>\n",
       "      <td>Raw</td>\n",
       "      <td>31.5</td>\n",
       "      <td>24-34</td>\n",
       "      <td>24-39</td>\n",
       "      <td>O</td>\n",
       "      <td>102.55</td>\n",
       "      <td>105</td>\n",
       "      <td>...</td>\n",
       "      <td>Russia</td>\n",
       "      <td>NaN</td>\n",
       "      <td>Bryansk</td>\n",
       "      <td>Open Tournament</td>\n",
       "      <td>0.071429</td>\n",
       "      <td>0.033333</td>\n",
       "      <td>0.066667</td>\n",
       "      <td>0.031250</td>\n",
       "      <td>0.083333</td>\n",
       "      <td>0.038462</td>\n",
       "    </tr>\n",
       "    <tr>\n",
       "      <th>12</th>\n",
       "      <td>Yuriy Solovyev</td>\n",
       "      <td>M</td>\n",
       "      <td>SBD</td>\n",
       "      <td>Wraps</td>\n",
       "      <td>26.5</td>\n",
       "      <td>24-34</td>\n",
       "      <td>24-39</td>\n",
       "      <td>O</td>\n",
       "      <td>98.90</td>\n",
       "      <td>105</td>\n",
       "      <td>...</td>\n",
       "      <td>Russia</td>\n",
       "      <td>NaN</td>\n",
       "      <td>Bryansk</td>\n",
       "      <td>Open Tournament</td>\n",
       "      <td>0.111111</td>\n",
       "      <td>0.050000</td>\n",
       "      <td>0.071429</td>\n",
       "      <td>0.050000</td>\n",
       "      <td>0.052632</td>\n",
       "      <td>0.087500</td>\n",
       "    </tr>\n",
       "    <tr>\n",
       "      <th>70</th>\n",
       "      <td>Irina Syanova</td>\n",
       "      <td>F</td>\n",
       "      <td>SBD</td>\n",
       "      <td>Raw</td>\n",
       "      <td>35.0</td>\n",
       "      <td>35-39</td>\n",
       "      <td>24-39</td>\n",
       "      <td>O</td>\n",
       "      <td>53.60</td>\n",
       "      <td>59</td>\n",
       "      <td>...</td>\n",
       "      <td>Russia</td>\n",
       "      <td>ORL</td>\n",
       "      <td>Oryol</td>\n",
       "      <td>Fortior est ferrum Tournament</td>\n",
       "      <td>0.071429</td>\n",
       "      <td>0.066667</td>\n",
       "      <td>0.052632</td>\n",
       "      <td>0.050000</td>\n",
       "      <td>0.093750</td>\n",
       "      <td>0.057143</td>\n",
       "    </tr>\n",
       "  </tbody>\n",
       "</table>\n",
       "<p>5 rows × 44 columns</p>\n",
       "</div>"
      ],
      "text/plain": [
       "                  Name Sex Event Equipment   Age AgeClass BirthYearClass  \\\n",
       "1   Galina Solovyanova   F   SBD       Raw  43.0    40-44          40-49   \n",
       "3       Aleksey Krasov   M   SBD       Raw  35.0    35-39          24-39   \n",
       "8       Ruslan Gasanov   M   SBD       Raw  31.5    24-34          24-39   \n",
       "12      Yuriy Solovyev   M   SBD     Wraps  26.5    24-34          24-39   \n",
       "70       Irina Syanova   F   SBD       Raw  35.0    35-39          24-39   \n",
       "\n",
       "   Division  BodyweightKg WeightClassKg  ...  MeetCountry  MeetState  \\\n",
       "1        M1         73.10            74  ...       Russia        NaN   \n",
       "3         O         66.65            74  ...       Russia        NaN   \n",
       "8         O        102.55           105  ...       Russia        NaN   \n",
       "12        O         98.90           105  ...       Russia        NaN   \n",
       "70        O         53.60            59  ...       Russia        ORL   \n",
       "\n",
       "    MeetTown                       MeetName  squat12_percent_increase  \\\n",
       "1    Bryansk                Open Tournament                  0.052632   \n",
       "3    Bryansk                Open Tournament                  0.056000   \n",
       "8    Bryansk                Open Tournament                  0.071429   \n",
       "12   Bryansk                Open Tournament                  0.111111   \n",
       "70     Oryol  Fortior est ferrum Tournament                  0.071429   \n",
       "\n",
       "    squat23_percent_increase  bench12_percent_increase  \\\n",
       "1                   0.050000                  0.080000   \n",
       "3                   0.041667                  0.065217   \n",
       "8                   0.033333                  0.066667   \n",
       "12                  0.050000                  0.071429   \n",
       "70                  0.066667                  0.052632   \n",
       "\n",
       "    bench23_percent_increase  Deadlift12_percent_increase  \\\n",
       "1                   0.074074                     0.100000   \n",
       "3                   0.040816                     0.100000   \n",
       "8                   0.031250                     0.083333   \n",
       "12                  0.050000                     0.052632   \n",
       "70                  0.050000                     0.093750   \n",
       "\n",
       "    Deadlift23_percent_increase  \n",
       "1                      0.090909  \n",
       "3                      0.030303  \n",
       "8                      0.038462  \n",
       "12                     0.087500  \n",
       "70                     0.057143  \n",
       "\n",
       "[5 rows x 44 columns]"
      ]
     },
     "execution_count": 14,
     "metadata": {},
     "output_type": "execute_result"
    }
   ],
   "source": [
    "df.head()"
   ]
  },
  {
   "cell_type": "code",
   "execution_count": 15,
   "metadata": {},
   "outputs": [
    {
     "data": {
      "text/html": [
       "<div>\n",
       "<style scoped>\n",
       "    .dataframe tbody tr th:only-of-type {\n",
       "        vertical-align: middle;\n",
       "    }\n",
       "\n",
       "    .dataframe tbody tr th {\n",
       "        vertical-align: top;\n",
       "    }\n",
       "\n",
       "    .dataframe thead th {\n",
       "        text-align: right;\n",
       "    }\n",
       "</style>\n",
       "<table border=\"1\" class=\"dataframe\">\n",
       "  <thead>\n",
       "    <tr style=\"text-align: right;\">\n",
       "      <th></th>\n",
       "      <th>squat12_percent_increase</th>\n",
       "      <th>squat23_percent_increase</th>\n",
       "      <th>bench12_percent_increase</th>\n",
       "      <th>bench23_percent_increase</th>\n",
       "      <th>Deadlift12_percent_increase</th>\n",
       "      <th>Deadlift23_percent_increase</th>\n",
       "    </tr>\n",
       "  </thead>\n",
       "  <tbody>\n",
       "    <tr>\n",
       "      <th>count</th>\n",
       "      <td>365540.000000</td>\n",
       "      <td>365540.000000</td>\n",
       "      <td>365540.000000</td>\n",
       "      <td>365540.000000</td>\n",
       "      <td>365540.000000</td>\n",
       "      <td>365540.000000</td>\n",
       "    </tr>\n",
       "    <tr>\n",
       "      <th>mean</th>\n",
       "      <td>0.062665</td>\n",
       "      <td>0.045007</td>\n",
       "      <td>0.065033</td>\n",
       "      <td>0.044954</td>\n",
       "      <td>0.064908</td>\n",
       "      <td>0.045368</td>\n",
       "    </tr>\n",
       "    <tr>\n",
       "      <th>std</th>\n",
       "      <td>0.021171</td>\n",
       "      <td>0.018599</td>\n",
       "      <td>0.023852</td>\n",
       "      <td>0.019750</td>\n",
       "      <td>0.021273</td>\n",
       "      <td>0.018787</td>\n",
       "    </tr>\n",
       "    <tr>\n",
       "      <th>min</th>\n",
       "      <td>0.000108</td>\n",
       "      <td>0.001563</td>\n",
       "      <td>0.003027</td>\n",
       "      <td>0.000952</td>\n",
       "      <td>0.002128</td>\n",
       "      <td>0.001449</td>\n",
       "    </tr>\n",
       "    <tr>\n",
       "      <th>25%</th>\n",
       "      <td>0.048193</td>\n",
       "      <td>0.031250</td>\n",
       "      <td>0.047619</td>\n",
       "      <td>0.031250</td>\n",
       "      <td>0.050000</td>\n",
       "      <td>0.031746</td>\n",
       "    </tr>\n",
       "    <tr>\n",
       "      <th>50%</th>\n",
       "      <td>0.060241</td>\n",
       "      <td>0.043478</td>\n",
       "      <td>0.062500</td>\n",
       "      <td>0.041667</td>\n",
       "      <td>0.062500</td>\n",
       "      <td>0.043478</td>\n",
       "    </tr>\n",
       "    <tr>\n",
       "      <th>75%</th>\n",
       "      <td>0.075000</td>\n",
       "      <td>0.056180</td>\n",
       "      <td>0.080000</td>\n",
       "      <td>0.055556</td>\n",
       "      <td>0.078431</td>\n",
       "      <td>0.057471</td>\n",
       "    </tr>\n",
       "    <tr>\n",
       "      <th>max</th>\n",
       "      <td>0.129477</td>\n",
       "      <td>0.100133</td>\n",
       "      <td>0.136778</td>\n",
       "      <td>0.109375</td>\n",
       "      <td>0.126087</td>\n",
       "      <td>0.098655</td>\n",
       "    </tr>\n",
       "  </tbody>\n",
       "</table>\n",
       "</div>"
      ],
      "text/plain": [
       "       squat12_percent_increase  squat23_percent_increase  \\\n",
       "count             365540.000000             365540.000000   \n",
       "mean                   0.062665                  0.045007   \n",
       "std                    0.021171                  0.018599   \n",
       "min                    0.000108                  0.001563   \n",
       "25%                    0.048193                  0.031250   \n",
       "50%                    0.060241                  0.043478   \n",
       "75%                    0.075000                  0.056180   \n",
       "max                    0.129477                  0.100133   \n",
       "\n",
       "       bench12_percent_increase  bench23_percent_increase  \\\n",
       "count             365540.000000             365540.000000   \n",
       "mean                   0.065033                  0.044954   \n",
       "std                    0.023852                  0.019750   \n",
       "min                    0.003027                  0.000952   \n",
       "25%                    0.047619                  0.031250   \n",
       "50%                    0.062500                  0.041667   \n",
       "75%                    0.080000                  0.055556   \n",
       "max                    0.136778                  0.109375   \n",
       "\n",
       "       Deadlift12_percent_increase  Deadlift23_percent_increase  \n",
       "count                365540.000000                365540.000000  \n",
       "mean                      0.064908                     0.045368  \n",
       "std                       0.021273                     0.018787  \n",
       "min                       0.002128                     0.001449  \n",
       "25%                       0.050000                     0.031746  \n",
       "50%                       0.062500                     0.043478  \n",
       "75%                       0.078431                     0.057471  \n",
       "max                       0.126087                     0.098655  "
      ]
     },
     "execution_count": 15,
     "metadata": {},
     "output_type": "execute_result"
    }
   ],
   "source": [
    "df[LIFT_INCREASE_COLUMNS].describe()"
   ]
  },
  {
   "cell_type": "markdown",
   "metadata": {},
   "source": [
    "It seems ther there are almost 3 times as many men in the dataset as there are women, with very low MX count."
   ]
  },
  {
   "cell_type": "code",
   "execution_count": 17,
   "metadata": {},
   "outputs": [
    {
     "data": {
      "text/plain": [
       "Sex\n",
       "M     127969\n",
       "F      47665\n",
       "Mx        10\n",
       "Name: count, dtype: int64"
      ]
     },
     "execution_count": 17,
     "metadata": {},
     "output_type": "execute_result"
    }
   ],
   "source": [
    "#Remove duplicate names/sex, get the number of times they've competed, and then count the sexes\n",
    "df_times_competed = df.groupby(['Name','Sex']).size().reset_index(name='times_competed')\n",
    "df_times_competed['Sex'].value_counts()\n"
   ]
  },
  {
   "cell_type": "markdown",
   "metadata": {},
   "source": [
    "# Effects of Sex on % attempt increases"
   ]
  },
  {
   "cell_type": "markdown",
   "metadata": {},
   "source": [
    "## Jumps between Attempts 1 and 2"
   ]
  },
  {
   "cell_type": "code",
   "execution_count": null,
   "metadata": {},
   "outputs": [],
   "source": [
    "BINS_INCREASE_RANGE = [n * 0.01 for n in range(30)]\n",
    "HIST_TICKS = [n * 0.05 for n in range(7)]\n",
    "plt.figure(figsize=(20,5))\n",
    "\n",
    "xp = 'squat12_percent_increase'\n",
    "plt.subplot(1, 3, 1)\n",
    "sns.histplot(data=df, x=xp, bins=BINS_INCREASE_RANGE, hue='Sex')\n",
    "plt.xticks(ticks=HIST_TICKS)\n",
    "plt.title('Percent increase between Squat 1 and Squat 2', fontsize=14)       # Set title with font size\n",
    "plt.xlabel(\"% increase in weight between attempts\")\n",
    "\n",
    "\n",
    "xp = 'bench12_percent_increase'\n",
    "plt.subplot(1, 3, 2)\n",
    "sns.histplot(data=df, x=xp, bins=BINS_INCREASE_RANGE, hue='Sex')\n",
    "plt.title('Percent increase between Bench 1 and Bench 2', fontsize=14)       # Set title with font size\n",
    "plt.xticks(ticks=HIST_TICKS)\n",
    "plt.xlabel(\"% increase in weight between attempts\")\n",
    "\n",
    "\n",
    "xp = 'Deadlift12_percent_increase'\n",
    "plt.subplot(1,3,3)\n",
    "sns.histplot(data=df,x=xp, bins=BINS_INCREASE_RANGE, hue='Sex')\n",
    "plt.xticks(ticks=HIST_TICKS)\n",
    "plt.title('Percent increase between Deadlift 1 and Deadlift 2', fontsize=14)       # Set title with font size\n",
    "plt.xlabel(\"% increase in weight between attempts\")\n",
    "\n",
    "\n",
    "plt.show()"
   ]
  },
  {
   "cell_type": "markdown",
   "metadata": {},
   "source": [
    "### Jumps in Squat 1,2\n",
    "Discuss the graph on the left\n",
    "\n",
    "### Jumps in Bench 1,2\n",
    "Discuss the  middle graph\n",
    "\n",
    "### Jumps in Deadlift 1,2\n",
    "Discuss the right graph"
   ]
  },
  {
   "cell_type": "markdown",
   "metadata": {},
   "source": [
    "## Jumps between Attempt 2 and 3"
   ]
  },
  {
   "cell_type": "code",
   "execution_count": null,
   "metadata": {},
   "outputs": [],
   "source": [
    "plt.figure(figsize=(20,5))\n",
    "\n",
    "xp = 'squat23_percent_increase'\n",
    "plt.subplot(1, 3, 1)\n",
    "sns.histplot(data=df, x=xp, bins=BINS_INCREASE_RANGE, hue='Sex')\n",
    "plt.xticks(ticks=HIST_TICKS)\n",
    "plt.title('Percent increase between Squat 2 and Squat 3', fontsize=14)       # Set title with font size\n",
    "plt.xlabel(\"% increase in weight between attempts\")\n",
    "\n",
    "\n",
    "xp = 'bench23_percent_increase'\n",
    "plt.subplot(1, 3, 2)\n",
    "sns.histplot(data=df, x=xp, bins=BINS_INCREASE_RANGE, hue='Sex')\n",
    "plt.xticks(ticks=HIST_TICKS)\n",
    "plt.title('Percent increase between Bench 2 and Bench 3', fontsize=14)       # Set title with font size\n",
    "plt.xlabel(\"% increase in weight between attempts\")\n",
    "\n",
    "xp = 'Deadlift23_percent_increase'\n",
    "plt.subplot(1,3,3)\n",
    "sns.histplot(data=df,x=xp, bins=BINS_INCREASE_RANGE, hue='Sex')\n",
    "plt.xticks(ticks=HIST_TICKS)\n",
    "plt.title('Percent increase between Deadlift 2 and Deadlift 3', fontsize=14)       # Set title with font size\n",
    "plt.xlabel(\"% increase in weight between attempts\")\n",
    "\n",
    "\n",
    "plt.show()"
   ]
  },
  {
   "cell_type": "markdown",
   "metadata": {},
   "source": [
    "### Jumps in Squat 2,3\n",
    "\n",
    "### Jumps in Bench 2,3\n",
    "\n",
    "### Jumps in Deadlift 2,3"
   ]
  },
  {
   "cell_type": "markdown",
   "metadata": {},
   "source": [
    "## Looking closer at distribution"
   ]
  },
  {
   "cell_type": "code",
   "execution_count": null,
   "metadata": {},
   "outputs": [],
   "source": [
    "# Define your figure size\n",
    "plt.figure(figsize=(12, 6))\n",
    "min_value = 0\n",
    "max_value = 0.15\n",
    "\n",
    "plt.subplot(1, 2, 1)\n",
    "sns.boxplot(data=df, y='squat12_percent_increase', hue=\"Sex\", dodge=True, gap=0.1)\n",
    "plt.ylim(min_value, max_value)\n",
    "plt.title('Percent increase between Squat 1 and Squat 2', fontsize=14)       # Set title with font size\n",
    "\n",
    "\n",
    "plt.subplot(1, 2, 2)\n",
    "sns.boxplot(data =df, y='squat23_percent_increase', hue=\"Sex\", dodge=True, gap=0.1)\n",
    "plt.ylim(min_value, max_value)\n",
    "plt.title('Percent increase between Squat 2 and Squat 3', fontsize=14)       # Set title with font size\n",
    "\n",
    "plt.show()"
   ]
  },
  {
   "cell_type": "markdown",
   "metadata": {},
   "source": [
    "## Discuss Here [REMOVE/RENAME THIS TITLE BEFORE SUBMITTING?]\n",
    "looks like women take bigger jumps here, but there are more upper outliers among men?"
   ]
  },
  {
   "cell_type": "code",
   "execution_count": null,
   "metadata": {},
   "outputs": [],
   "source": [
    "plt.figure(figsize=(12, 6))\n",
    "min_value = 0\n",
    "max_value = 0.15\n",
    "\n",
    "plt.subplot(1, 2, 1)\n",
    "sns.boxplot(data=df, y='bench12_percent_increase', hue=\"Sex\", dodge=True, gap=0.1)\n",
    "plt.ylim(min_value, max_value)\n",
    "plt.title('Percent increase between Bench 1 and Bench 2', fontsize=14)       # Set title with font size\n",
    "\n",
    "\n",
    "plt.subplot(1, 2, 2)\n",
    "sns.boxplot(data =df, y='bench23_percent_increase', hue=\"Sex\", dodge=True, gap=0.1)\n",
    "plt.ylim(min_value, max_value)\n",
    "plt.title('Percent increase between Bench 2 and Bench 3', fontsize=14)       # Set title with font size\n",
    "\n",
    "plt.show()"
   ]
  },
  {
   "cell_type": "markdown",
   "metadata": {},
   "source": [
    "## Discuss Here [REMOVE/RENAME THIS TITLE BEFORE SUBMITTING?]\n",
    "- The jumps taken here are way higher than women's for men, this is surprising since men's benchesare usually heavier than women's, so maybe the amount of weight on the bar might not mean bigger jumps"
   ]
  },
  {
   "cell_type": "code",
   "execution_count": null,
   "metadata": {},
   "outputs": [],
   "source": [
    "plt.figure(figsize=(12, 6))\n",
    "min_value = 0\n",
    "max_value = 0.15\n",
    "\n",
    "plt.subplot(1, 2, 1)\n",
    "sns.boxplot(data=df, y='Deadlift12_percent_increase', hue=\"Sex\", dodge=True, gap=0.1)\n",
    "plt.ylim(min_value, max_value)\n",
    "plt.title('Percent increase between Deadlift 1 and Deadlift 2', fontsize=14)       # Set title with font size\n",
    "\n",
    "\n",
    "plt.subplot(1, 2, 2)\n",
    "sns.boxplot(data =df, y='Deadlift23_percent_increase', hue=\"Sex\", dodge=True, gap=0.1)\n",
    "plt.ylim(min_value, max_value)\n",
    "plt.title('Percent increase between Deadlift 2 and Deadlift 3', fontsize=14)       # Set title with font size\n",
    "\n",
    "plt.show()"
   ]
  },
  {
   "cell_type": "markdown",
   "metadata": {},
   "source": [
    "## Discuss Here [REMOVE/RENAME THIS TITLE BEFORE SUBMITTING?]\n",
    "- Surprisingly even across the sexes\n",
    "- Possible colinearity in attempt selection: the jump between 2 and 3 are always lower than the jump between 1 and 2."
   ]
  },
  {
   "cell_type": "markdown",
   "metadata": {},
   "source": [
    "# Across weight class?"
   ]
  },
  {
   "cell_type": "code",
   "execution_count": null,
   "metadata": {},
   "outputs": [],
   "source": [
    "WEIGHT_CLASS_ORDER = ['43', '47', '53', '59', '66', '74', '83', '93', '105', '120', '120+']\n",
    "\n",
    "plt.figure(figsize=(12, 6))\n",
    "\n",
    "plt.subplot(1, 2, 1)\n",
    "sns.boxplot(data=df, x='squat12_percent_increase', hue=\"WeightClassKg\", dodge=True, gap=0.1, hue_order = WEIGHT_CLASS_ORDER)\n",
    "plt.legend(loc='upper left')\n",
    "\n",
    "plt.subplot(1, 2, 2)\n",
    "sns.boxplot(data=df, x='squat23_percent_increase', hue=\"WeightClassKg\", dodge=True, gap=0.1, hue_order = WEIGHT_CLASS_ORDER)\n",
    "plt.legend(loc='upper left')\n",
    "\n",
    "plt.show()"
   ]
  },
  {
   "cell_type": "code",
   "execution_count": null,
   "metadata": {},
   "outputs": [],
   "source": [
    "plt.figure(figsize=(12, 6))\n",
    "\n",
    "plt.subplot(1, 2, 1)\n",
    "sns.boxplot(data=df, x='bench12_percent_increase', hue=\"WeightClassKg\", dodge=True, gap=0.1, hue_order = WEIGHT_CLASS_ORDER)\n",
    "plt.legend(loc='upper left')\n",
    "\n",
    "plt.subplot(1, 2, 2)\n",
    "sns.boxplot(data=df, x='bench23_percent_increase', hue=\"WeightClassKg\", dodge=True, gap=0.1, hue_order = WEIGHT_CLASS_ORDER)\n",
    "plt.legend(loc='upper left')\n",
    "\n",
    "plt.show()"
   ]
  },
  {
   "cell_type": "code",
   "execution_count": null,
   "metadata": {},
   "outputs": [],
   "source": [
    "plt.figure(figsize=(12, 6))\n",
    "\n",
    "plt.subplot(1, 2, 1)\n",
    "sns.boxplot(data=df, x='Deadlift12_percent_increase', hue=\"WeightClassKg\", dodge=True, gap=0.1, hue_order = WEIGHT_CLASS_ORDER)\n",
    "plt.ylabel(\"Weight Class\")\n",
    "plt.legend(loc='upper left')\n",
    "\n",
    "plt.subplot(1, 2, 2)\n",
    "sns.boxplot(data=df, x='Deadlift23_percent_increase', hue=\"WeightClassKg\", dodge=True, gap=0.1, hue_order = WEIGHT_CLASS_ORDER)\n",
    "plt.ylabel(\"Weight Class\")\n",
    "plt.legend(loc='upper left')\n",
    "\n",
    "plt.show()"
   ]
  },
  {
   "cell_type": "markdown",
   "metadata": {},
   "source": [
    "## Linear Regressions\n",
    "\n",
    "Ok, the data looks sufficient to answer our question, and we want to answer our hypothesis on the effect Sex and Event has on percentage increase in events.\n",
    "\n",
    "For this we'll run multiple regressions.\n",
    "\n",
    "- The first regression, we'll filter to only men, and see what each event's coefficient is when it comes to weight increases.\n",
    "- The second regression, we'll filter to only women, and see what each event's coefficient is when it comes to weight increases.\n",
    "- The third regression, we'll mesure the effect of Sex on weight increases.\n",
    "\n",
    "We just need a bit of extra data wrangling to achieve this:"
   ]
  },
  {
   "cell_type": "markdown",
   "metadata": {},
   "source": [
    "# Ethics & Privacy"
   ]
  },
  {
   "cell_type": "markdown",
   "metadata": {},
   "source": [
    "In conducting our research on attempt selection in powerlifting, it's paramount to address ethical and privacy concerns throughout the data science process. Our dataset, sourced from Openpowerlifting.com, provides valuable information on powerlifting competitions, but we recognize the importance of safeguarding the privacy of individuals involved. We will ensure that the data used is anonymized and that participants' consent to data usage is respected, given that the information is publicly available. Additionally, we acknowledge potential biases within the dataset, including underrepresentation of certain demographic groups in powerlifting competitions. To mitigate these biases, we will conduct thorough exploratory data analysis to identify any imbalances and employ strategies such as stratification or oversampling to ensure equitable analysis.\n",
    "\n",
    "Throughout the analysis, we will maintain transparency regarding the limitations and potential biases of the data. We will present findings in a fair and balanced manner, highlighting uncertainties and caveats associated with the analysis. Post-analysis, we will critically review our findings to assess their implications on different demographic groups and engage in ongoing dialogue with stakeholders to address concerns related to equity and fairness. Our research will adhere to ethical guidelines and best practices in data science, prioritizing transparency, accountability, and respect for the rights and dignity of research participants. By upholding these principles, we aim to contribute responsibly to the understanding of attempt selection in powerlifting while promoting inclusivity and ethical data use."
   ]
  },
  {
   "cell_type": "markdown",
   "metadata": {},
   "source": [
    "# Team Expectations "
   ]
  },
  {
   "cell_type": "markdown",
   "metadata": {},
   "source": [
    "\n",
    "## Communication\n",
    "* We understand that we are all students with different coursework and load and may not be available for days to respond with input to someone's ideas or questions. \n",
    "\n",
    "* To give some semblance of \"I have seen your message\", since Discord doesn't provide read receipts, we hope to adopt a practice of reacting with an emote to messages to acknowledge them if we don't have time to craft a response at the time of reading it. [Read about reacting to messages on Discord](https://support.discord.com/hc/en-us/articles/12102061808663-Reactions-and-Super-Reactions-FAQ). The tutorial shows how to do it on PC, and can be done on mobile by holding down on a message.\n",
    "\n",
    "## Collaboration\n",
    "* Since this project is a group project, and every one should contribute equally or close to equally. Everyone should take the responsibilities of a suitable amount of the work in data wrangling, analysis, report writing, revision, etc. When the work is distributed in the meeting/discord, every team member should keep track of updates on the task, report difficulties encountered (if any) so that we can adjust the work distribution, and help each other out when in need.\n",
    "* The deadline set by the group need to be maintained and every member, though has difference schedules, should complete his or her part of the work before the deadline, too.\n"
   ]
  },
  {
   "cell_type": "markdown",
   "metadata": {},
   "source": [
    "# Project Timeline Proposal"
   ]
  },
  {
   "cell_type": "markdown",
   "metadata": {},
   "source": [
    "Our main form of communication is through Discord, to account for changing schedules like midterms/other class deadlines, meeting times should be discussed every week to be as early as all our schedules allow so we can all be on the same page and have time to work on how we decide the split the tasks each week. We believe the table below, which was provided in the template of this proposal, is good for the quarter. \n",
    "\n",
    "\n",
    "| Meeting Date  | Meeting Time| Completed Before Meeting  | Discuss at Meeting |\n",
    "|---|---|---|---|\n",
    "| 1/20  |  Discuss on Discord | Read & Think about COGS 108 expectations; brainstorm topics/questions  | Determine best form of communication; Discuss and decide on final project topic; discuss hypothesis; begin background research | \n",
    "| 1/26  |  Discuss on Discord |  Do background research on topic | Discuss ideal dataset(s) and ethics; draft project proposal | \n",
    "| 2/11  | Discuss on Discord  | Edit, finalize, and submit proposal; Search for datasets  | Discuss Wrangling and possible analytical approaches|\n",
    "| 2/18  | Discuss on Discord  | Assign group members to lead each specific part; Import & Wrangle Data (Ant Man); EDA (Hulk) | Review/Edit wrangling/EDA; Discuss Analysis Plan|\n",
    "| 2/25  | Discuss on Discord  | Finalize wrangling/EDA; Begin Analysis | Discuss/edit Analysis; Complete project check-in |\n",
    "| 3/13  | Discuss on Discord  | Complete analysis; Draft results/conclusion/discussion| Review project report; Edit full project |\n",
    "| 3/20  | Before 11:59 PM  | NA | Turn in Final Project & Group Project Surveys |"
   ]
  }
 ],
 "metadata": {
  "kernelspec": {
   "display_name": "Python 3 (ipykernel)",
   "language": "python",
   "name": "python3"
  },
  "language_info": {
   "codemirror_mode": {
    "name": "ipython",
    "version": 3
   },
   "file_extension": ".py",
   "mimetype": "text/x-python",
   "name": "python",
   "nbconvert_exporter": "python",
   "pygments_lexer": "ipython3",
   "version": "3.12.2"
  }
 },
 "nbformat": 4,
 "nbformat_minor": 4
}
