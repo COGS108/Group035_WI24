{
 "cells": [
  {
   "cell_type": "markdown",
   "metadata": {},
   "source": [
    "**If you lost points on the last checkpoint you can get them back by responding to TA/IA feedback**  \n",
    "\n",
    "Update/change the relevant sections where you lost those points, make sure you respond on GitHub Issues to your TA/IA to call their attention to the changes you made here.\n",
    "\n",
    "Please update your Timeline... no battle plan survives contact with the enemy, so make sure we understand how your plans have changed."
   ]
  },
  {
   "cell_type": "markdown",
   "metadata": {},
   "source": [
    "# COGS 108 - Data Checkpoint"
   ]
  },
  {
   "cell_type": "markdown",
   "metadata": {},
   "source": [
    "# Names\n",
    "\n",
    "- Erick Amaro Hernandez\n",
    "- Sanjith Devineni\n",
    "- Alex Macias\n",
    "- Lawrence Ong\n",
    "- Mingyang Yao"
   ]
  },
  {
   "cell_type": "markdown",
   "metadata": {},
   "source": [
    "# Research Question"
   ]
  },
  {
   "cell_type": "markdown",
   "metadata": {},
   "source": [
    "When competing in a powerlifting competition, choosing how much weight you'll be lifting has a lot of factors incorporated into it such as your own ability to judge the difficulty of your previous attempts and how you performed on those attempts. Our question is: Does the percentage(%) increase in attempt weight selection vary between different categorical variables such as weight class, event, and gender? \n"
   ]
  },
  {
   "cell_type": "markdown",
   "metadata": {},
   "source": [
    "## Background and Prior Work"
   ]
  },
  {
   "cell_type": "markdown",
   "metadata": {},
   "source": [
    "The sport of powerlifting consists of 3 main events. The squat, the bench press, and the deadlift. A powerlifting competition gives you 3 attempts at the squat, 3 for the bench press, and 3 for the deadlift, and per event, each attempt must be heavier than the last (within the event), with the max weight lifted in each event summing up to the competitor's \"total\" for a meet. \n",
    "\n",
    "As such, attempt selection is an incredibly important skill a powerlifter must attain if they want to be successful in the sport. Seasoned coaches in the sport suggest that attempts start at around 90% of an athlete's max in the event. With 5% jumps between attempts being suggested from attempt 1 to 2, and <3% between attempt 2 and 3. It is also noted that heavier jumps may occur in the last event, the deadlift, due to it being the most exciting event of a powerlifting meet and/or the unique rules that come from it being the final event of a meet. <a name=\"cite_note-1\"></a> [<sup>1</sup>](#cite_ref-1) \n",
    "\n",
    "Most of the hype around the deadlift event comes from it contributing on average >40% of an athelete's total regardless of gender according to a previous analysis of the dataset by Kaggle user Steven Wilson <a name=\"cite_ref-2\"></a>[<sup>2</sup>](#cite_note-2). The importance of a lifter's deadlift fuels our hypothesis that maybe this lift comes with even higher/riskier jumps in weight per attempt on average. Another thing we can learn from Wilson's analysis and build on is that a larger portion of Men's totals is made up by their bench press, with it making up around 25% of their total in comparison to female lifters where it only makes up 20%. The study also shows the almost trivial trend of a higher athlete body weight being associated with higher totals.\n",
    "\n",
    "[^](#cite_ref-1) Krawczyk, Bryce (6 August, 2023) So You Wanna Be a Powerlifter? Attempt Selection During a Meet. *BarBend.com* https://www.barbend.com/powerlifting-meet-attempt-selection/\n",
    "\n",
    "[^](#cite-ref2) Steven Wilson (23 Sept. 2020) Strength Differences in Powerlifting by Gender https://www.kaggle.com/code/stevenwilson8/strength-differences-in-powerlifting-by-gender\n"
   ]
  },
  {
   "cell_type": "markdown",
   "metadata": {},
   "source": [
    "# Hypothesis\n"
   ]
  },
  {
   "cell_type": "markdown",
   "metadata": {},
   "source": [
    "1. We believe there will be no difference between genders when it comes to attempt selection in general. We think this because the different distributions of weight selection a per-event basis will balance eachother out to be equal when comparing just by gender. For example, although women may choose higher squat attempts, their bench attempts will might be lower and vice versa for men.\n",
    "2. The deadlift will have the higher jumps due to the hype around the amount of weight lifted and it being the main contributor to an athlete's total.\n",
    "3. Following from the last prediction, and from Wilson's past research on contribution of an event to an athlete's total, we predict that on a per-event basis there will be a difference between men and women's jumps, e.g. since more of men's totals is made up of the bench press, they might have higher jumps than women in the bench press. \n"
   ]
  },
  {
   "cell_type": "markdown",
   "metadata": {},
   "source": [
    "# Data"
   ]
  },
  {
   "cell_type": "markdown",
   "metadata": {},
   "source": [
    "The ideal dataset would be a log of powerlifting competitions and results of each of the competitors. Ideally we'd like some sort of identifier for the lifter for potentially tracking differences as they gain more experience competing. Even more ideal would be data that includes competitors' best lifts outside of competition, but that is never reported when signing up for a competition, so we believe it is not feasably attainable. \n",
    "\n",
    "\n",
    "As for collecting a dataset, it already has been. Openpowerlifting.com archives all powerlifting competitions and has a well-maintained dataset published on Kaggle which we will be using for the project. It contains weight, weight class, attempt weights, whether the attempt was successful, and calculations of various scores that are used to rank lifters across the different federations in powerlifting in each row, where each row is a competitor's performance at a specific meet."
   ]
  },
  {
   "cell_type": "markdown",
   "metadata": {},
   "source": [
    "## Data overview\n",
    "\n",
    "For each dataset include the following information\n",
    "- Dataset #1\n",
    "  - Dataset Name: Open Powerlifting Database\n",
    "  - Link to the dataset: https://www.kaggle.com/datasets/open-powerlifting/powerlifting-database\n",
    "  - Number of observations: 3,043,013\n",
    "  - Number of variables: 38\n",
    "\n",
    "The Openpowerlifting dataset is a collection of archived powerlifting competition results from 1946 - 1/1/2023.\n",
    "\n",
    "Every row of the OpenPowerlifting dataset consists of a record of how a lifter did during a competition. A row contains their age/weight data, what events they decided to compete in, whether they competed Equipped (certain competitions dont allow certain equipment to be used during a lift), geographic data like country,state,town, as well as the name of the Competition. It also includes rows of different scoring systems that take weight, gender, and total lifted in order to compare one's performance to another across varying weight/sex classes. All weight data is stored in Kilograms.\n",
    "\n",
    "Powerlifting is a sport where the philosophy behind the sport varies drastically. As such, there are results from 300+ federations in this dataset with their own rules behind what counts as a \"valid lift\". This also includes each federation having their own weight classes. Thankfully, the raw bodyweight a lifter weighed in at on the day of the competition is included as one of the columns, and 5 different scores are precomputed as columns if a lifter's performance was able to be scored.\n",
    "\n",
    "In order to compare lifters in this dataset, we will standardize to one weight class category, and one scoring system. Weight classes will be standardized to those that the International Powerlifting Federation uses (with some caveats, since the cutoffs are different for Female and Male lifters). DOTS will be our selected scoring system because it does not require that an athlete complete all 3 lifts to be calculated and is actively used today.\n",
    "\n",
    "We also need to calculate the jumps between a lifter's Squat 1 and Squat 2 attempt, which will be calculated in the following section. In this dataset, a failed attempt is set to the negative of the attempt weight. This means if there is a -100 in the Squat1Kg column, the lifter attempted 100kg and failed the attempt. Even if an attempt is failed, they are not allowed to lower the weight for the next attempt, so these 0% jumps should be ignored as to not skew any averages we compute.\n",
    "\n",
    "## Instructions\n",
    "Now write 2 - 5 sentences describing each dataset here. Include a short description of the important variables in the dataset; what the metrics and datatypes are, what concepts they may be proxies for. Include information about how you would need to wrangle/clean/preprocess the dataset\n",
    "\n",
    "If you plan to use multiple datasets, add a few sentences about how you plan to combine these datasets."
   ]
  },
  {
   "cell_type": "markdown",
   "metadata": {},
   "source": [
    "## Dataset #1 (use name instead of number here)"
   ]
  },
  {
   "cell_type": "code",
   "execution_count": 12,
   "metadata": {},
   "outputs": [
    {
     "name": "stderr",
     "output_type": "stream",
     "text": [
      "/var/folders/kk/3lqkkjzx7kb59yj16vgzwnyh0000gn/T/ipykernel_11806/4150370134.py:3: DtypeWarning: Columns (31,33,35,38) have mixed types. Specify dtype option on import or set low_memory=False.\n",
      "  df = pd.read_csv(\"./dataset/openpowerlifting-2024-01-06-4c732975.csv\")\n"
     ]
    },
    {
     "data": {
      "text/plain": [
       "(3043013, 41)"
      ]
     },
     "execution_count": 12,
     "metadata": {},
     "output_type": "execute_result"
    }
   ],
   "source": [
    "import numpy as np\n",
    "import pandas as pd\n",
    "df = pd.read_csv(\"./dataset/openpowerlifting-2024-01-06-4c732975.csv\")\n",
    "df.shape"
   ]
  },
  {
   "cell_type": "markdown",
   "metadata": {},
   "source": [
    "## TODO: NaN values\n",
    "\n",
    "Differences between how federations categorize their lifters are shown here, some recorded an age (Age), or just the range in which they fell into (AgeClass)"
   ]
  },
  {
   "cell_type": "code",
   "execution_count": 13,
   "metadata": {},
   "outputs": [
    {
     "data": {
      "text/plain": [
       "Name                      0\n",
       "Sex                       0\n",
       "Event                     0\n",
       "Equipment                 0\n",
       "Age                 1070337\n",
       "AgeClass             814256\n",
       "BirthYearClass      1000666\n",
       "Division               1435\n",
       "BodyweightKg          38368\n",
       "WeightClassKg         40757\n",
       "Squat1Kg            2137906\n",
       "Squat2Kg            2147142\n",
       "Squat3Kg            2171053\n",
       "Squat4Kg            3034560\n",
       "Best3SquatKg        1009169\n",
       "Bench1Kg            1652910\n",
       "Bench2Kg            1668528\n",
       "Bench3Kg            1710945\n",
       "Bench4Kg            3022026\n",
       "Best3BenchKg         358566\n",
       "Deadlift1Kg         2021904\n",
       "Deadlift2Kg         2039602\n",
       "Deadlift3Kg         2080157\n",
       "Deadlift4Kg         3020077\n",
       "Best3DeadliftKg      836823\n",
       "TotalKg              202421\n",
       "Place                     0\n",
       "Dots                 227397\n",
       "Wilks                227397\n",
       "Glossbrenner         227397\n",
       "Goodlift             476889\n",
       "Tested               804298\n",
       "Country             1284501\n",
       "State               2408023\n",
       "Federation                0\n",
       "ParentFederation    1068468\n",
       "Date                      0\n",
       "MeetCountry               0\n",
       "MeetState            859344\n",
       "MeetTown             411193\n",
       "MeetName                  0\n",
       "dtype: int64"
      ]
     },
     "execution_count": 13,
     "metadata": {},
     "output_type": "execute_result"
    }
   ],
   "source": [
    "#null data\n",
    "df.isna().sum()"
   ]
  },
  {
   "cell_type": "code",
   "execution_count": 14,
   "metadata": {},
   "outputs": [
    {
     "data": {
      "text/plain": [
       "Squat1Kg             NaN\n",
       "Squat2Kg             NaN\n",
       "Squat3Kg             NaN\n",
       "Squat4Kg             NaN\n",
       "Best3SquatKg         NaN\n",
       "Bench1Kg             NaN\n",
       "Bench2Kg             NaN\n",
       "Bench3Kg             NaN\n",
       "Bench4Kg             NaN\n",
       "Best3BenchKg       200.0\n",
       "Deadlift1Kg          NaN\n",
       "Deadlift2Kg          NaN\n",
       "Deadlift3Kg          NaN\n",
       "Deadlift4Kg          NaN\n",
       "Best3DeadliftKg      NaN\n",
       "Name: 579, dtype: object"
      ]
     },
     "execution_count": 14,
     "metadata": {},
     "output_type": "execute_result"
    }
   ],
   "source": [
    "df = df.drop(['Goodlift','Wilks','Glossbrenner'], axis=1)\n",
    "# DOTs is NaN because either people didnt weigh in or bombed out, or inconistent data entry (see Fabricio Ubirajara de Assis)\n",
    "df[df['Name'] == \"Fabricio Ubirajara de Assis\"].iloc[0,10:25]"
   ]
  },
  {
   "cell_type": "markdown",
   "metadata": {},
   "source": [
    "## Dropping rows\n",
    "\n",
    "Since we are looking at attempt selection, we will be dropping any rows where the lifter signed up, but didn't compete. These can be found by those rows with NaN in their 1st attempt of every event, as well as those whose placement in a competition was \"NS\", for \"no-show\". \n",
    "\n",
    "TODO, drop all scoring cols except DOTS"
   ]
  },
  {
   "cell_type": "code",
   "execution_count": 15,
   "metadata": {},
   "outputs": [],
   "source": [
    "#Filter out any rows where there is no lift data, or lifter was no-show to the competition\n",
    "df = df[~((df['Squat1Kg'].isna()) & (df['Bench1Kg'].isna()) & (df['Deadlift1Kg'].isna()))]\n",
    "df = df[df['Place'] != 'NS']"
   ]
  },
  {
   "cell_type": "markdown",
   "metadata": {},
   "source": [
    "## Standardizing Weight classes\n",
    "\n",
    "Earlier we discussed how there are 300+ federations, each with possibly their own defined weight classes. In this study, we will standardize the weight classes used by the International Powerlifting Federation, which hosts world championships, and can be seen as a \"Parent Federation\" in the dataset for federations worldwide, this means they all follow and conform to IPF guidelines to some degree. It's popularity worldwide made us choose it for this standardization. \n",
    "\n",
    "The weight classes are as follows, defined on [page 4 of the IPF rulebook](https://www.powerlifting.sport/fileadmin/ipf/data/rules/technical-rules/english/IPF_Technical_Rules_Book_2023__1_.pdf). A weight class like 80kg means you weigh under 80kg, but over the next smallest weight class. \n",
    "\n",
    "- Men\n",
    "    - \\[59kg, 66kg, 74kg, 83kg, 93kg, 105kg, 120kg, 120+kg\\]\n",
    "- Women\n",
    "    - \\[47kg, 52kg, 57kg, 63kg, 69kg, 76kg, 84kg, 84+kg\\]\n",
    " \n",
    "This however excludes people who do not identify as either (labeled as Mx in federations who support this), so we will merge the two categorizations to account for more bodyweights and identities. The following is the resulting weight classes, we use men's weight classes and append any lower weight classes that the women's classes support.\n",
    "\n",
    "\\[43kg, 47kg, 53kg, 59kg, 66kg, 74kg, 83kg, 93kg, 105kg, 120kg, 120+kg\\]"
   ]
  },
  {
   "cell_type": "code",
   "execution_count": 18,
   "metadata": {},
   "outputs": [],
   "source": [
    "#Standardizing weight classes\n",
    "def standardize_weight_class(weight):\n",
    "    if weight == np.nan:\n",
    "        return np.nan\n",
    "    \n",
    "    combined_ipf_classes = [43, 47, 53, 59, 66, 74, 83, 93, 105, 120]\n",
    "\n",
    "    unlimited_class = str(combined_ipf_classes[-1]) + \"+\"\n",
    "    for weight_class in combined_ipf_classes:\n",
    "        if weight < weight_class:\n",
    "            return str(weight_class)\n",
    "\n",
    "    return unlimited_class\n",
    "\n",
    "df['WeightClassKg'] = df['BodyweightKg'].apply(standardize_weight_class)"
   ]
  },
  {
   "cell_type": "code",
   "execution_count": 19,
   "metadata": {},
   "outputs": [
    {
     "data": {
      "text/plain": [
       "WeightClassKg\n",
       "83      278594\n",
       "93      243159\n",
       "105     218003\n",
       "74      215414\n",
       "120     152866\n",
       "66      143427\n",
       "120+    105640\n",
       "59       99374\n",
       "53       55073\n",
       "47       14903\n",
       "43        6980\n",
       "Name: count, dtype: int64"
      ]
     },
     "execution_count": 19,
     "metadata": {},
     "output_type": "execute_result"
    }
   ],
   "source": [
    "df['WeightClassKg'].value_counts()"
   ]
  },
  {
   "cell_type": "markdown",
   "metadata": {},
   "source": [
    "## Columns of Percentage Increase\n",
    "\n",
    "To perform further analysis on the change of performance of each player, we add columns for each player and for the percentage difference between two attempts on one event. We name each column as 'item_name {ij}_percent_increase' if this column represents percentage increase from item i to item j.  \n",
    "\n",
    "However, by previous null value analysis, we know that there are many null values in columns, so the percentage increase also contains null values. "
   ]
  },
  {
   "cell_type": "code",
   "execution_count": 23,
   "metadata": {},
   "outputs": [],
   "source": [
    "df['squat12_percent_increase'] = ((df['Squat2Kg'] - df['Squat1Kg']) / df['Squat1Kg'])\n",
    "df['squat23_percent_increase'] = ((df['Squat3Kg'] - df['Squat2Kg']) / df['Squat2Kg'])\n",
    "df['squat34_percent_increase'] = ((df['Squat4Kg'] - df['Squat3Kg']) / df['Squat3Kg'])\n",
    "\n",
    "df['bench12_percent_increase'] = ((df['Bench2Kg'] - df['Bench1Kg']) / df['Bench1Kg'])\n",
    "df['bench23_percent_increase'] = ((df['Bench3Kg'] - df['Bench2Kg']) / df['Bench2Kg'])\n",
    "df['bench34_percent_increase'] = ((df['Bench4Kg'] - df['Bench3Kg']) / df['Bench3Kg'])\n",
    "\n",
    "df['Deadlift12_percent_increase'] = ((df['Deadlift2Kg'] - df['Deadlift1Kg']) / df['Deadlift1Kg'])\n",
    "df['Deadlift12_percent_increase'] = ((df['Deadlift3Kg'] - df['Deadlift2Kg']) / df['Deadlift2Kg'])\n",
    "df['Deadlift12_percent_increase'] = ((df['Deadlift4Kg'] - df['Deadlift3Kg']) / df['Deadlift3Kg'])"
   ]
  },
  {
   "cell_type": "code",
   "execution_count": 26,
   "metadata": {},
   "outputs": [
    {
     "data": {
      "text/html": [
       "<div>\n",
       "<style scoped>\n",
       "    .dataframe tbody tr th:only-of-type {\n",
       "        vertical-align: middle;\n",
       "    }\n",
       "\n",
       "    .dataframe tbody tr th {\n",
       "        vertical-align: top;\n",
       "    }\n",
       "\n",
       "    .dataframe thead th {\n",
       "        text-align: right;\n",
       "    }\n",
       "</style>\n",
       "<table border=\"1\" class=\"dataframe\">\n",
       "  <thead>\n",
       "    <tr style=\"text-align: right;\">\n",
       "      <th></th>\n",
       "      <th>Name</th>\n",
       "      <th>Sex</th>\n",
       "      <th>Event</th>\n",
       "      <th>Equipment</th>\n",
       "      <th>Age</th>\n",
       "      <th>AgeClass</th>\n",
       "      <th>BirthYearClass</th>\n",
       "      <th>Division</th>\n",
       "      <th>BodyweightKg</th>\n",
       "      <th>WeightClassKg</th>\n",
       "      <th>...</th>\n",
       "      <th>MeetState</th>\n",
       "      <th>MeetTown</th>\n",
       "      <th>MeetName</th>\n",
       "      <th>squat12_percent_increase</th>\n",
       "      <th>squat23_percent_increase</th>\n",
       "      <th>squat34_percent_increase</th>\n",
       "      <th>bench12_percent_increase</th>\n",
       "      <th>bench23_percent_increase</th>\n",
       "      <th>bench34_percent_increase</th>\n",
       "      <th>Deadlift12_percent_increase</th>\n",
       "    </tr>\n",
       "  </thead>\n",
       "  <tbody>\n",
       "    <tr>\n",
       "      <th>0</th>\n",
       "      <td>Alona Vladi</td>\n",
       "      <td>F</td>\n",
       "      <td>SBD</td>\n",
       "      <td>Raw</td>\n",
       "      <td>33.0</td>\n",
       "      <td>24-34</td>\n",
       "      <td>24-39</td>\n",
       "      <td>O</td>\n",
       "      <td>58.30</td>\n",
       "      <td>59</td>\n",
       "      <td>...</td>\n",
       "      <td>NaN</td>\n",
       "      <td>Bryansk</td>\n",
       "      <td>Open Tournament</td>\n",
       "      <td>0.066667</td>\n",
       "      <td>-2.125000</td>\n",
       "      <td>NaN</td>\n",
       "      <td>0.100000</td>\n",
       "      <td>0.090909</td>\n",
       "      <td>NaN</td>\n",
       "      <td>NaN</td>\n",
       "    </tr>\n",
       "    <tr>\n",
       "      <th>1</th>\n",
       "      <td>Galina Solovyanova</td>\n",
       "      <td>F</td>\n",
       "      <td>SBD</td>\n",
       "      <td>Raw</td>\n",
       "      <td>43.0</td>\n",
       "      <td>40-44</td>\n",
       "      <td>40-49</td>\n",
       "      <td>M1</td>\n",
       "      <td>73.10</td>\n",
       "      <td>74</td>\n",
       "      <td>...</td>\n",
       "      <td>NaN</td>\n",
       "      <td>Bryansk</td>\n",
       "      <td>Open Tournament</td>\n",
       "      <td>0.052632</td>\n",
       "      <td>0.050000</td>\n",
       "      <td>NaN</td>\n",
       "      <td>0.080000</td>\n",
       "      <td>-2.074074</td>\n",
       "      <td>NaN</td>\n",
       "      <td>NaN</td>\n",
       "    </tr>\n",
       "    <tr>\n",
       "      <th>2</th>\n",
       "      <td>Daniil Voronin</td>\n",
       "      <td>M</td>\n",
       "      <td>SBD</td>\n",
       "      <td>Raw</td>\n",
       "      <td>15.5</td>\n",
       "      <td>16-17</td>\n",
       "      <td>14-18</td>\n",
       "      <td>T</td>\n",
       "      <td>67.40</td>\n",
       "      <td>74</td>\n",
       "      <td>...</td>\n",
       "      <td>NaN</td>\n",
       "      <td>Bryansk</td>\n",
       "      <td>Open Tournament</td>\n",
       "      <td>0.058824</td>\n",
       "      <td>0.111111</td>\n",
       "      <td>NaN</td>\n",
       "      <td>0.136364</td>\n",
       "      <td>-2.040000</td>\n",
       "      <td>NaN</td>\n",
       "      <td>NaN</td>\n",
       "    </tr>\n",
       "    <tr>\n",
       "      <th>3</th>\n",
       "      <td>Aleksey Krasov</td>\n",
       "      <td>M</td>\n",
       "      <td>SBD</td>\n",
       "      <td>Raw</td>\n",
       "      <td>35.0</td>\n",
       "      <td>35-39</td>\n",
       "      <td>24-39</td>\n",
       "      <td>O</td>\n",
       "      <td>66.65</td>\n",
       "      <td>74</td>\n",
       "      <td>...</td>\n",
       "      <td>NaN</td>\n",
       "      <td>Bryansk</td>\n",
       "      <td>Open Tournament</td>\n",
       "      <td>0.056000</td>\n",
       "      <td>0.041667</td>\n",
       "      <td>NaN</td>\n",
       "      <td>0.065217</td>\n",
       "      <td>-2.040816</td>\n",
       "      <td>NaN</td>\n",
       "      <td>NaN</td>\n",
       "    </tr>\n",
       "    <tr>\n",
       "      <th>4</th>\n",
       "      <td>Margarita Pleschenkova</td>\n",
       "      <td>M</td>\n",
       "      <td>SBD</td>\n",
       "      <td>Raw</td>\n",
       "      <td>26.5</td>\n",
       "      <td>24-34</td>\n",
       "      <td>24-39</td>\n",
       "      <td>O</td>\n",
       "      <td>72.45</td>\n",
       "      <td>74</td>\n",
       "      <td>...</td>\n",
       "      <td>NaN</td>\n",
       "      <td>Bryansk</td>\n",
       "      <td>Open Tournament</td>\n",
       "      <td>0.062500</td>\n",
       "      <td>0.058824</td>\n",
       "      <td>NaN</td>\n",
       "      <td>0.250000</td>\n",
       "      <td>-2.200000</td>\n",
       "      <td>NaN</td>\n",
       "      <td>NaN</td>\n",
       "    </tr>\n",
       "  </tbody>\n",
       "</table>\n",
       "<p>5 rows × 45 columns</p>\n",
       "</div>"
      ],
      "text/plain": [
       "                     Name Sex Event Equipment   Age AgeClass BirthYearClass  \\\n",
       "0             Alona Vladi   F   SBD       Raw  33.0    24-34          24-39   \n",
       "1      Galina Solovyanova   F   SBD       Raw  43.0    40-44          40-49   \n",
       "2          Daniil Voronin   M   SBD       Raw  15.5    16-17          14-18   \n",
       "3          Aleksey Krasov   M   SBD       Raw  35.0    35-39          24-39   \n",
       "4  Margarita Pleschenkova   M   SBD       Raw  26.5    24-34          24-39   \n",
       "\n",
       "  Division  BodyweightKg WeightClassKg  ...  MeetState  MeetTown  \\\n",
       "0        O         58.30            59  ...        NaN   Bryansk   \n",
       "1       M1         73.10            74  ...        NaN   Bryansk   \n",
       "2        T         67.40            74  ...        NaN   Bryansk   \n",
       "3        O         66.65            74  ...        NaN   Bryansk   \n",
       "4        O         72.45            74  ...        NaN   Bryansk   \n",
       "\n",
       "          MeetName  squat12_percent_increase  squat23_percent_increase  \\\n",
       "0  Open Tournament                  0.066667                 -2.125000   \n",
       "1  Open Tournament                  0.052632                  0.050000   \n",
       "2  Open Tournament                  0.058824                  0.111111   \n",
       "3  Open Tournament                  0.056000                  0.041667   \n",
       "4  Open Tournament                  0.062500                  0.058824   \n",
       "\n",
       "   squat34_percent_increase  bench12_percent_increase  \\\n",
       "0                       NaN                  0.100000   \n",
       "1                       NaN                  0.080000   \n",
       "2                       NaN                  0.136364   \n",
       "3                       NaN                  0.065217   \n",
       "4                       NaN                  0.250000   \n",
       "\n",
       "   bench23_percent_increase  bench34_percent_increase  \\\n",
       "0                  0.090909                       NaN   \n",
       "1                 -2.074074                       NaN   \n",
       "2                 -2.040000                       NaN   \n",
       "3                 -2.040816                       NaN   \n",
       "4                 -2.200000                       NaN   \n",
       "\n",
       "   Deadlift12_percent_increase  \n",
       "0                          NaN  \n",
       "1                          NaN  \n",
       "2                          NaN  \n",
       "3                          NaN  \n",
       "4                          NaN  \n",
       "\n",
       "[5 rows x 45 columns]"
      ]
     },
     "execution_count": 26,
     "metadata": {},
     "output_type": "execute_result"
    }
   ],
   "source": [
    "df.head()"
   ]
  },
  {
   "cell_type": "markdown",
   "metadata": {},
   "source": [
    "# Ethics & Privacy"
   ]
  },
  {
   "cell_type": "markdown",
   "metadata": {},
   "source": [
    "In conducting our research on attempt selection in powerlifting, it's paramount to address ethical and privacy concerns throughout the data science process. Our dataset, sourced from Openpowerlifting.com, provides valuable information on powerlifting competitions, but we recognize the importance of safeguarding the privacy of individuals involved. We will ensure that the data used is anonymized and that participants' consent to data usage is respected, given that the information is publicly available. Additionally, we acknowledge potential biases within the dataset, including underrepresentation of certain demographic groups in powerlifting competitions. To mitigate these biases, we will conduct thorough exploratory data analysis to identify any imbalances and employ strategies such as stratification or oversampling to ensure equitable analysis.\n",
    "\n",
    "Throughout the analysis, we will maintain transparency regarding the limitations and potential biases of the data. We will present findings in a fair and balanced manner, highlighting uncertainties and caveats associated with the analysis. Post-analysis, we will critically review our findings to assess their implications on different demographic groups and engage in ongoing dialogue with stakeholders to address concerns related to equity and fairness. Our research will adhere to ethical guidelines and best practices in data science, prioritizing transparency, accountability, and respect for the rights and dignity of research participants. By upholding these principles, we aim to contribute responsibly to the understanding of attempt selection in powerlifting while promoting inclusivity and ethical data use."
   ]
  },
  {
   "cell_type": "markdown",
   "metadata": {},
   "source": [
    "# Team Expectations "
   ]
  },
  {
   "cell_type": "markdown",
   "metadata": {},
   "source": [
    "\n",
    "## Communication\n",
    "* We understand that we are all students with different coursework and load and may not be available for days to respond with input to someone's ideas or questions. \n",
    "\n",
    "* To give some semblance of \"I have seen your message\", since Discord doesn't provide read receipts, we hope to adopt a practice of reacting with an emote to messages to acknowledge them if we don't have time to craft a response at the time of reading it. [Read about reacting to messages on Discord](https://support.discord.com/hc/en-us/articles/12102061808663-Reactions-and-Super-Reactions-FAQ). The tutorial shows how to do it on PC, and can be done on mobile by holding down on a message.\n",
    "\n",
    "## Collaboration\n",
    "* Since this project is a group project, and every one should contribute equally or close to equally. Everyone should take the responsibilities of a suitable amount of the work in data wrangling, analysis, report writing, revision, etc. When the work is distributed in the meeting/discord, every team member should keep track of updates on the task, report difficulties encountered (if any) so that we can adjust the work distribution, and help each other out when in need.\n",
    "* The deadline set by the group need to be maintained and every member, though has difference schedules, should complete his or her part of the work before the deadline, too.\n"
   ]
  },
  {
   "cell_type": "markdown",
   "metadata": {},
   "source": [
    "# Project Timeline Proposal"
   ]
  },
  {
   "cell_type": "markdown",
   "metadata": {},
   "source": [
    "Our main form of communication is through Discord, to account for changing schedules like midterms/other class deadlines, meeting times should be discussed every week to be as early as all our schedules allow so we can all be on the same page and have time to work on how we decide the split the tasks each week. We believe the table below, which was provided in the template of this proposal, is good for the quarter. \n",
    "\n",
    "\n",
    "| Meeting Date  | Meeting Time| Completed Before Meeting  | Discuss at Meeting |\n",
    "|---|---|---|---|\n",
    "| 1/20  |  Discuss on Discord | Read & Think about COGS 108 expectations; brainstorm topics/questions  | Determine best form of communication; Discuss and decide on final project topic; discuss hypothesis; begin background research | \n",
    "| 1/26  |  Discuss on Discord |  Do background research on topic | Discuss ideal dataset(s) and ethics; draft project proposal | \n",
    "| 2/11  | Discuss on Discord  | Edit, finalize, and submit proposal; Search for datasets  | Discuss Wrangling and possible analytical approaches|\n",
    "| 2/18  | Discuss on Discord  | Assign group members to lead each specific part; Import & Wrangle Data (Ant Man); EDA (Hulk) | Review/Edit wrangling/EDA; Discuss Analysis Plan|\n",
    "| 2/25  | Discuss on Discord  | Finalize wrangling/EDA; Begin Analysis | Discuss/edit Analysis; Complete project check-in |\n",
    "| 3/13  | Discuss on Discord  | Complete analysis; Draft results/conclusion/discussion| Review project report; Edit full project |\n",
    "| 3/20  | Before 11:59 PM  | NA | Turn in Final Project & Group Project Surveys |"
   ]
  }
 ],
 "metadata": {
  "kernelspec": {
   "display_name": "Python 3 (ipykernel)",
   "language": "python",
   "name": "python3"
  },
  "language_info": {
   "codemirror_mode": {
    "name": "ipython",
    "version": 3
   },
   "file_extension": ".py",
   "mimetype": "text/x-python",
   "name": "python",
   "nbconvert_exporter": "python",
   "pygments_lexer": "ipython3",
   "version": "3.10.13"
  }
 },
 "nbformat": 4,
 "nbformat_minor": 4
}
