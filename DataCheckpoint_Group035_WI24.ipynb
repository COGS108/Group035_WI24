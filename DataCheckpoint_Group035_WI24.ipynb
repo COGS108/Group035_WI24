{
 "cells": [
  {
   "cell_type": "markdown",
   "metadata": {},
   "source": [
    "**If you lost points on the last checkpoint you can get them back by responding to TA/IA feedback**  \n",
    "\n",
    "Update/change the relevant sections where you lost those points, make sure you respond on GitHub Issues to your TA/IA to call their attention to the changes you made here.\n",
    "\n",
    "Please update your Timeline... no battle plan survives contact with the enemy, so make sure we understand how your plans have changed."
   ]
  },
  {
   "cell_type": "markdown",
   "metadata": {},
   "source": [
    "# COGS 108 - Data Checkpoint"
   ]
  },
  {
   "cell_type": "markdown",
   "metadata": {},
   "source": [
    "# Names\n",
    "\n",
    "- Erick Amaro Hernandez\n",
    "- Sanjith Devineni\n",
    "- Alex Macias\n",
    "- Lawrence Ong\n",
    "- Mingyang Yao"
   ]
  },
  {
   "cell_type": "markdown",
   "metadata": {},
   "source": [
    "# Research Question"
   ]
  },
  {
   "cell_type": "markdown",
   "metadata": {},
   "source": [
    "Our question is: Does weight class, event (type of lift: squat, bench press, or deadlift), and gender affect the percentage(%) increase in attempt weight selection(amount of weight the competitor chooses for their next attempt)? For example, given that an athlete has lifted 100kg in an event defined previously, would something like gender or weight class influence whether they pick 105 kgs, 110 kgs, or more for their next attempt? \n"
   ]
  },
  {
   "cell_type": "markdown",
   "metadata": {},
   "source": [
    "## Background and Prior Work"
   ]
  },
  {
   "cell_type": "markdown",
   "metadata": {},
   "source": [
    "The sport of powerlifting consists of 3 main **events**. The squat, the bench press, and the deadlift. A powerlifting competition gives you 3 attempts at the squat, 3 for the bench press, and 3 for the deadlift, and per event, each attempt must be heavier than the last (within the event), with the max weight lifted in each event summing up to the competitor's \"**total**\" for a meet. \n",
    "\n",
    "When competing in a powerlifting competition, choosing how much weight you'll be lifting has a lot of factors incorporated into it such as your own ability to judge the difficulty of your previous attempts and how you performed on those attempts. As such, attempt selection is an incredibly important skill a powerlifter must attain if they want to be successful in the sport. Seasoned coaches in the sport suggest that attempts start at around 90% of an athlete's max in the event. With 5% jumps between attempts being suggested from attempt 1 to 2, and <3% between attempt 2 and 3. It is also noted that heavier jumps may occur in the last event, the deadlift, due to it being the most exciting event of a powerlifting meet and/or the unique rules that come from it being the final event of a meet. <a name=\"cite_note-1\"></a> [<sup>1</sup>](#cite_ref-1) \n",
    "\n",
    "Most of the hype around the deadlift event comes from it contributing on average >40% of an athelete's total regardless of gender according to a previous analysis of the dataset by Kaggle user Steven Wilson <a name=\"cite_ref-2\"></a>[<sup>2</sup>](#cite_note-2). The importance of a lifter's deadlift fuels our hypothesis that maybe this lift comes with even higher/riskier jumps in weight per attempt on average. Another thing we can learn from Wilson's analysis and build on is that a larger portion of Men's totals is made up by their bench press, with it making up around 25% of their total in comparison to female lifters where it only makes up 20%. The study also shows the almost trivial trend of a higher athlete body weight being associated with higher totals.\n",
    "\n",
    "The prior work mostly looks at statistics of powerlifting like athlete totals rather than seeing some psychology behind the sport. We set out to uncover unconscious biases in weight selection for each attempt. If we discover that these biases exist and are significant, then this would help athletes plan out their attempts more efficiently. Athletes could then choose to be more conservative if planning a risky jump (being concious that they may be susceptible to biases found in this project), potentially adding more pounds or kilograms to their meet total rather than failing their next attempt or vice versa if we find out that their category tend to play more conservative. \n",
    "\n",
    "[^](#cite_ref-1) Krawczyk, Bryce (6 August, 2023) So You Wanna Be a Powerlifter? Attempt Selection During a Meet. *BarBend.com* https://www.barbend.com/powerlifting-meet-attempt-selection/\n",
    "\n",
    "[^](#cite-ref2) Steven Wilson (23 Sept. 2020) Strength Differences in Powerlifting by Gender https://www.kaggle.com/code/stevenwilson8/strength-differences-in-powerlifting-by-gender\n"
   ]
  },
  {
   "cell_type": "markdown",
   "metadata": {},
   "source": [
    "# Hypothesis\n"
   ]
  },
  {
   "cell_type": "markdown",
   "metadata": {},
   "source": [
    "1. We believe there will be no difference between genders when it comes to attempt selection in general. We think this because the different distributions of weight selection a per-event basis will balance eachother out to be equal when comparing just by gender. For example, although women may choose higher squat attempts, their bench attempts will might be lower and vice versa for men.\n",
    "2. The deadlift will have the higher jumps due to the hype around the amount of weight lifted and it being the main contributor to an athlete's total.\n",
    "3. Following from the last prediction, and from Wilson's past research on contribution of an event to an athlete's total, we predict that on a per-event basis there will be a difference between men and women's jumps, e.g. since more of men's totals is made up of the bench press, they might have higher jumps than women in the bench press. \n"
   ]
  },
  {
   "cell_type": "markdown",
   "metadata": {},
   "source": [
    "# Data"
   ]
  },
  {
   "cell_type": "markdown",
   "metadata": {},
   "source": [
    "The ideal dataset would be a log of powerlifting competitions and results of each of the competitors. Ideally we'd like some sort of identifier for the lifter for potentially tracking differences as they gain more experience competing. Even more ideal would be data that includes competitors' best lifts outside of competition, but that is never reported when signing up for a competition, so we believe it is not feasably attainable. \n",
    "\n",
    "\n",
    "As for collecting a dataset, it already has been. Openpowerlifting.com archives all powerlifting competitions and has a well-maintained dataset published on Kaggle which we will be using for the project. It contains weight, weight class, attempt weights, whether the attempt was successful, and calculations of various scores that are used to rank lifters across the different federations in powerlifting in each row, where each row is a competitor's performance at a specific meet."
   ]
  },
  {
   "cell_type": "markdown",
   "metadata": {},
   "source": [
    "## Data overview\n",
    "\n",
    "For each dataset include the following information\n",
    "- Dataset #1\n",
    "  - Dataset Name: Open Powerlifting Database\n",
    "  - Link to the dataset: https://www.kaggle.com/datasets/open-powerlifting/powerlifting-database\n",
    "  - Number of observations: 3,043,013\n",
    "  - Number of variables: 38\n",
    "\n",
    "The Openpowerlifting dataset is a collection of archived powerlifting competition results from 1946 - 1/1/2023.\n",
    "\n",
    "Every row of the OpenPowerlifting dataset consists of a record of how a lifter did during a competition. A row contains their age/weight data, what events they decided to compete in, whether they competed Equipped (certain competitions dont allow certain equipment to be used during a lift), geographic data like country,state,town, as well as the name of the Competition. It also includes rows of different scoring systems that take weight, gender, and total lifted in order to compare one's performance to another across varying weight/sex classes. All weight data is stored in Kilograms.\n",
    "\n",
    "Powerlifting is a sport where the philosophy behind the sport varies drastically. As such, there are results from 300+ federations in this dataset with their own rules behind what counts as a \"valid lift\". This also includes each federation having their own weight classes. Thankfully, the raw bodyweight a lifter weighed in at on the day of the competition is included as one of the columns, and 5 different scores are precomputed as columns if a lifter's performance was able to be scored.\n",
    "\n",
    "In order to compare lifters in this dataset, we will standardize to one weight class category, and one scoring system. Weight classes will be standardized to those that the International Powerlifting Federation uses (with some caveats, since the cutoffs are different for Female and Male lifters). DOTS will be our selected scoring system because it does not require that an athlete complete all 3 lifts to be calculated and is actively used today.\n",
    "\n",
    "We also need to calculate the jumps between a lifter's Squat 1 and Squat 2 attempt, which will be calculated in the following section. In this dataset, a failed attempt is set to the negative of the attempt weight. This means if there is a -100 in the Squat1Kg column, the lifter attempted 100kg and failed the attempt. Even if an attempt is failed, they are not allowed to lower the weight for the next attempt, so these 0% jumps should be ignored as to not skew any averages we compute."
   ]
  },
  {
   "cell_type": "markdown",
   "metadata": {},
   "source": [
    "## Openpowerlifting Database"
   ]
  },
  {
   "cell_type": "code",
   "execution_count": 125,
   "metadata": {},
   "outputs": [
    {
     "name": "stderr",
     "output_type": "stream",
     "text": [
      "C:\\Users\\Erick\\AppData\\Local\\Temp\\ipykernel_23204\\3511301325.py:3: DtypeWarning: Columns (31,33,35,38) have mixed types. Specify dtype option on import or set low_memory=False.\n",
      "  df = pd.read_csv(\"./dataset/pl_data.csv\")\n"
     ]
    },
    {
     "data": {
      "text/plain": [
       "(3043013, 41)"
      ]
     },
     "execution_count": 125,
     "metadata": {},
     "output_type": "execute_result"
    }
   ],
   "source": [
    "import numpy as np\n",
    "import pandas as pd\n",
    "df = pd.read_csv(\"./dataset/pl_data.csv\")\n",
    "df.shape"
   ]
  },
  {
   "cell_type": "markdown",
   "metadata": {},
   "source": [
    "## NaN values\n",
    "\n",
    "Differences between how federations categorize their lifters are shown here, some recorded an age (Age), or just the range in which they fell into (AgeClass), some decide to combine the two in a \"Division\" column. There is also the \"Tested\" column which indicates whether or not athletes were drug tested, which is True if they were, NaN if they werent. Some Federations do not test for PEDs.\n",
    "\n",
    "Attempt values like Squat\\[1-3\\]kg are NaN if an athlete did not show up, or if an athlete decided to not do 3 attempts. There is also a 4th attempt column in the dataset, which is when there is an error in competition organization and the lifter is granted an extra attempt. \n",
    "\n",
    "BodyweightKg is also null if someone is No-Show to a competition."
   ]
  },
  {
   "cell_type": "code",
   "execution_count": 120,
   "metadata": {},
   "outputs": [
    {
     "data": {
      "text/plain": [
       "Name                      0\n",
       "Sex                       0\n",
       "Event                     0\n",
       "Equipment                 0\n",
       "Age                 1070337\n",
       "AgeClass             814256\n",
       "BirthYearClass      1000666\n",
       "Division               1435\n",
       "BodyweightKg          38368\n",
       "WeightClassKg         40757\n",
       "Squat1Kg            2137906\n",
       "Squat2Kg            2147142\n",
       "Squat3Kg            2171053\n",
       "Squat4Kg            3034560\n",
       "Best3SquatKg        1009169\n",
       "Bench1Kg            1652910\n",
       "Bench2Kg            1668528\n",
       "Bench3Kg            1710945\n",
       "Bench4Kg            3022026\n",
       "Best3BenchKg         358566\n",
       "Deadlift1Kg         2021904\n",
       "Deadlift2Kg         2039602\n",
       "Deadlift3Kg         2080157\n",
       "Deadlift4Kg         3020077\n",
       "Best3DeadliftKg      836823\n",
       "TotalKg              202421\n",
       "Place                     0\n",
       "Dots                 227397\n",
       "Wilks                227397\n",
       "Glossbrenner         227397\n",
       "Goodlift             476889\n",
       "Tested               804298\n",
       "Country             1284501\n",
       "State               2408023\n",
       "Federation                0\n",
       "ParentFederation    1068468\n",
       "Date                      0\n",
       "MeetCountry               0\n",
       "MeetState            859344\n",
       "MeetTown             411193\n",
       "MeetName                  0\n",
       "dtype: int64"
      ]
     },
     "execution_count": 120,
     "metadata": {},
     "output_type": "execute_result"
    }
   ],
   "source": [
    "df.isna().sum()"
   ]
  },
  {
   "cell_type": "markdown",
   "metadata": {},
   "source": [
    "## Anomalies \n",
    "There are also some rows that are anomalies. The following competitor competed in a Bench Press/Deadlift-only competition, yet is missing bodyweight and has a best bench despite not having any Bench\\[1,2,3\\]Kg values filled in. It is important to note there is no official way to keep track of powerlifting events, so each is recorded differently through either a Excel- and we're subject to errors in data entry."
   ]
  },
  {
   "cell_type": "code",
   "execution_count": 124,
   "metadata": {},
   "outputs": [
    {
     "data": {
      "text/plain": [
       "Name                              Fabricio Ubirajara de Assis\n",
       "Sex                                                         M\n",
       "Event                                                       B\n",
       "Equipment                                                 Raw\n",
       "Age                                                       NaN\n",
       "AgeClass                                                  NaN\n",
       "BirthYearClass                                          40-49\n",
       "Division                                                   MO\n",
       "BodyweightKg                                              NaN\n",
       "WeightClassKg                                            140+\n",
       "Squat1Kg                                                  NaN\n",
       "Squat2Kg                                                  NaN\n",
       "Squat3Kg                                                  NaN\n",
       "Squat4Kg                                                  NaN\n",
       "Best3SquatKg                                              NaN\n",
       "Bench1Kg                                                  NaN\n",
       "Bench2Kg                                                  NaN\n",
       "Bench3Kg                                                  NaN\n",
       "Bench4Kg                                                  NaN\n",
       "Best3BenchKg                                            200.0\n",
       "Deadlift1Kg                                               NaN\n",
       "Deadlift2Kg                                               NaN\n",
       "Deadlift3Kg                                               NaN\n",
       "Deadlift4Kg                                               NaN\n",
       "Best3DeadliftKg                                           NaN\n",
       "TotalKg                                                 200.0\n",
       "Place                                                       1\n",
       "Dots                                                      NaN\n",
       "Wilks                                                     NaN\n",
       "Glossbrenner                                              NaN\n",
       "Goodlift                                                  NaN\n",
       "Tested                                                    NaN\n",
       "Country                                                   NaN\n",
       "State                                                     NaN\n",
       "Federation                                            CONBRAP\n",
       "ParentFederation                                          GPC\n",
       "Date                                               2018-04-14\n",
       "MeetCountry                                            Brazil\n",
       "MeetState                                                 NaN\n",
       "MeetTown                                                  Jaú\n",
       "MeetName            Campeonato Paulista de Supino e Lev.Terra\n",
       "Name: 579, dtype: object"
      ]
     },
     "execution_count": 124,
     "metadata": {},
     "output_type": "execute_result"
    }
   ],
   "source": [
    "df[df['Name'] == \"Fabricio Ubirajara de Assis\"].iloc[0]"
   ]
  },
  {
   "cell_type": "markdown",
   "metadata": {},
   "source": [
    "## Dropping Data\n",
    "\n",
    "Since we are looking at attempt selection, we will be dropping any rows where the lifter signed up, but didn't compete. These can be found by those rows with NaN in their 1st attempt of every event, as well as those whose placement in a competition was \"NS\", for \"no-show\". \n"
   ]
  },
  {
   "cell_type": "code",
   "execution_count": 107,
   "metadata": {},
   "outputs": [],
   "source": [
    "#Filter out any rows where there is no lift data, or lifter was no-show to the competition\n",
    "df = df.drop(['Goodlift','Wilks','Glossbrenner'], axis=1)\n",
    "df = df[~((df['Squat1Kg'].isna()) & (df['Bench1Kg'].isna()) & (df['Deadlift1Kg'].isna()))]\n",
    "df = df[df['Place'] != 'NS']"
   ]
  },
  {
   "cell_type": "markdown",
   "metadata": {},
   "source": [
    "## Standardizing Weight classes\n",
    "\n",
    "Earlier we discussed how there are 300+ federations, each with possibly their own defined weight classes. In this study, we will standardize the weight classes used by the International Powerlifting Federation, which hosts world championships, and can be seen as a \"Parent Federation\" in the dataset for federations worldwide, this means they all follow and conform to IPF guidelines to some degree. It's popularity worldwide made us choose it for this standardization. \n",
    "\n",
    "The weight classes are as follows, defined on [page 4 of the IPF rulebook](https://www.powerlifting.sport/fileadmin/ipf/data/rules/technical-rules/english/IPF_Technical_Rules_Book_2023__1_.pdf). A weight class like 80kg means you weigh under 80kg, but over the next smallest weight class. \n",
    "\n",
    "- Men\n",
    "    - \\[59kg, 66kg, 74kg, 83kg, 93kg, 105kg, 120kg, 120+kg\\]\n",
    "- Women\n",
    "    - \\[47kg, 52kg, 57kg, 63kg, 69kg, 76kg, 84kg, 84+kg\\]\n",
    " \n",
    "This however excludes people who do not identify as either (labeled as Mx in federations who support this), so we will merge the two categorizations to account for more bodyweights and identities. The following is the resulting weight classes, we use men's weight classes and append any lower weight classes that the women's classes support.\n",
    "\n",
    "\\[43kg, 47kg, 53kg, 59kg, 66kg, 74kg, 83kg, 93kg, 105kg, 120kg, 120+kg\\]"
   ]
  },
  {
   "cell_type": "code",
   "execution_count": 108,
   "metadata": {},
   "outputs": [],
   "source": [
    "#Standardizing weight classes\n",
    "def standardize_weight_class(weight):\n",
    "    if weight == np.nan:\n",
    "        return np.nan\n",
    "    \n",
    "    combined_ipf_classes = [43, 47, 53, 59, 66, 74, 83, 93, 105, 120]\n",
    "\n",
    "    unlimited_class = str(combined_ipf_classes[-1]) + \"+\"\n",
    "    for weight_class in combined_ipf_classes:\n",
    "        if weight < weight_class:\n",
    "            return str(weight_class)\n",
    "\n",
    "    return unlimited_class\n",
    "\n",
    "df['WeightClassKg'] = df['BodyweightKg'].apply(standardize_weight_class)"
   ]
  },
  {
   "cell_type": "code",
   "execution_count": 126,
   "metadata": {},
   "outputs": [
    {
     "data": {
      "text/plain": [
       "WeightClassKg\n",
       "90       249072\n",
       "75       232213\n",
       "100      230505\n",
       "82.5     225302\n",
       "67.5     166052\n",
       "          ...  \n",
       "36.5          1\n",
       "128           1\n",
       "135.9         1\n",
       "65.3          1\n",
       "82.6          1\n",
       "Name: count, Length: 388, dtype: int64"
      ]
     },
     "execution_count": 126,
     "metadata": {},
     "output_type": "execute_result"
    }
   ],
   "source": [
    "df['WeightClassKg'].value_counts()"
   ]
  },
  {
   "cell_type": "markdown",
   "metadata": {},
   "source": [
    "## Columns of Percentage Increase\n",
    "\n",
    "To perform further analysis on the change of performance of each player, we add columns for each lifter and for the percentage difference between two attempts on one event. We name each column as 'item_name {ij}_percent_increase' if this column represents percentage increase from attempt i to attempt j.  \n",
    "\n",
    "However, by previous null value analysis, we know that there are many null values in columns, so the percentage increase also contains null values. Attempts will also contain negative values to signify failed attempts, so we will take the absolute value before calculating any increases. This is because if someone does 100kg in their first attempt, and then -105kg signifying they then failed 105kj, this would result in a negative increase."
   ]
  },
  {
   "cell_type": "code",
   "execution_count": 116,
   "metadata": {},
   "outputs": [],
   "source": [
    "df_absolute_value = df[['Squat1Kg','Squat2Kg','Squat3Kg','Bench1Kg','Bench2Kg','Bench3Kg','Deadlift1Kg','Deadlift2Kg','Deadlift3Kg']].abs()\n",
    "\n",
    "df['squat12_percent_increase'] = ((df_absolute_value['Squat2Kg'] - df_absolute_value['Squat1Kg']) / df_absolute_value['Squat1Kg'])\n",
    "df['squat23_percent_increase'] = ((df_absolute_value['Squat3Kg'] - df_absolute_value['Squat2Kg']) / df_absolute_value['Squat2Kg'])\n",
    "\n",
    "df['bench12_percent_increase'] = ((df_absolute_value['Bench2Kg'] - df_absolute_value['Bench1Kg']) / df_absolute_value['Bench1Kg'])\n",
    "df['bench23_percent_increase'] = ((df_absolute_value['Bench3Kg'] - df_absolute_value['Bench2Kg']) / df_absolute_value['Bench2Kg'])\n",
    "\n",
    "df['Deadlift12_percent_increase'] = ((df_absolute_value['Deadlift2Kg'] - df_absolute_value['Deadlift1Kg']) / df_absolute_value['Deadlift1Kg'])\n",
    "df['Deadlift23_percent_increase'] = ((df_absolute_value['Deadlift3Kg'] - df_absolute_value['Deadlift2Kg']) / df_absolute_value['Deadlift2Kg'])\n"
   ]
  },
  {
   "cell_type": "code",
   "execution_count": 117,
   "metadata": {},
   "outputs": [
    {
     "data": {
      "text/plain": [
       "Name                               Alona Vladi\n",
       "Sex                                          F\n",
       "Event                                      SBD\n",
       "Equipment                                  Raw\n",
       "Age                                       33.0\n",
       "AgeClass                                 24-34\n",
       "BirthYearClass                           24-39\n",
       "Division                                     O\n",
       "BodyweightKg                              58.3\n",
       "WeightClassKg                               59\n",
       "Squat1Kg                                  75.0\n",
       "Squat2Kg                                  80.0\n",
       "Squat3Kg                                 -90.0\n",
       "Squat4Kg                                   NaN\n",
       "Best3SquatKg                              80.0\n",
       "Bench1Kg                                  50.0\n",
       "Bench2Kg                                  55.0\n",
       "Bench3Kg                                  60.0\n",
       "Bench4Kg                                   NaN\n",
       "Best3BenchKg                              60.0\n",
       "Deadlift1Kg                               95.0\n",
       "Deadlift2Kg                              105.0\n",
       "Deadlift3Kg                              107.5\n",
       "Deadlift4Kg                                NaN\n",
       "Best3DeadliftKg                          107.5\n",
       "TotalKg                                  247.5\n",
       "Place                                        1\n",
       "Dots                                    279.44\n",
       "Tested                                     Yes\n",
       "Country                                 Russia\n",
       "State                                      NaN\n",
       "Federation                                 GFP\n",
       "ParentFederation                           NaN\n",
       "Date                                2019-05-11\n",
       "MeetCountry                             Russia\n",
       "MeetState                                  NaN\n",
       "MeetTown                               Bryansk\n",
       "MeetName                       Open Tournament\n",
       "squat12_percent_increase              0.066667\n",
       "squat23_percent_increase                 0.125\n",
       "squat34_percent_increase                   NaN\n",
       "bench12_percent_increase                   0.1\n",
       "bench23_percent_increase              0.090909\n",
       "bench34_percent_increase                   NaN\n",
       "Deadlift12_percent_increase           0.105263\n",
       "Deadlift23_percent_increase            0.02381\n",
       "Name: 0, dtype: object"
      ]
     },
     "execution_count": 117,
     "metadata": {},
     "output_type": "execute_result"
    }
   ],
   "source": [
    "df.iloc[0]"
   ]
  },
  {
   "cell_type": "markdown",
   "metadata": {},
   "source": [
    "# Ethics & Privacy"
   ]
  },
  {
   "cell_type": "markdown",
   "metadata": {},
   "source": [
    "In conducting our research on attempt selection in powerlifting, it's paramount to address ethical and privacy concerns throughout the data science process. Our dataset, sourced from Openpowerlifting.com, provides valuable information on powerlifting competitions, but we recognize the importance of safeguarding the privacy of individuals involved. We will ensure that the data used is anonymized and that participants' consent to data usage is respected, given that the information is publicly available. Additionally, we acknowledge potential biases within the dataset, including underrepresentation of certain demographic groups in powerlifting competitions. To mitigate these biases, we will conduct thorough exploratory data analysis to identify any imbalances and employ strategies such as stratification or oversampling to ensure equitable analysis.\n",
    "\n",
    "Throughout the analysis, we will maintain transparency regarding the limitations and potential biases of the data. We will present findings in a fair and balanced manner, highlighting uncertainties and caveats associated with the analysis. Post-analysis, we will critically review our findings to assess their implications on different demographic groups and engage in ongoing dialogue with stakeholders to address concerns related to equity and fairness. Our research will adhere to ethical guidelines and best practices in data science, prioritizing transparency, accountability, and respect for the rights and dignity of research participants. By upholding these principles, we aim to contribute responsibly to the understanding of attempt selection in powerlifting while promoting inclusivity and ethical data use."
   ]
  },
  {
   "cell_type": "markdown",
   "metadata": {},
   "source": [
    "# Team Expectations "
   ]
  },
  {
   "cell_type": "markdown",
   "metadata": {},
   "source": [
    "\n",
    "## Communication\n",
    "* We understand that we are all students with different coursework and load and may not be available for days to respond with input to someone's ideas or questions. \n",
    "\n",
    "* To give some semblance of \"I have seen your message\", since Discord doesn't provide read receipts, we hope to adopt a practice of reacting with an emote to messages to acknowledge them if we don't have time to craft a response at the time of reading it. [Read about reacting to messages on Discord](https://support.discord.com/hc/en-us/articles/12102061808663-Reactions-and-Super-Reactions-FAQ). The tutorial shows how to do it on PC, and can be done on mobile by holding down on a message.\n",
    "\n",
    "## Collaboration\n",
    "* Since this project is a group project, and every one should contribute equally or close to equally. Everyone should take the responsibilities of a suitable amount of the work in data wrangling, analysis, report writing, revision, etc. When the work is distributed in the meeting/discord, every team member should keep track of updates on the task, report difficulties encountered (if any) so that we can adjust the work distribution, and help each other out when in need.\n",
    "* The deadline set by the group need to be maintained and every member, though has difference schedules, should complete his or her part of the work before the deadline, too.\n"
   ]
  },
  {
   "cell_type": "markdown",
   "metadata": {},
   "source": [
    "# Project Timeline Proposal"
   ]
  },
  {
   "cell_type": "markdown",
   "metadata": {},
   "source": [
    "Our main form of communication is through Discord, to account for changing schedules like midterms/other class deadlines, meeting times should be discussed every week to be as early as all our schedules allow so we can all be on the same page and have time to work on how we decide the split the tasks each week. We believe the table below, which was provided in the template of this proposal, is good for the quarter. \n",
    "\n",
    "\n",
    "| Meeting Date  | Meeting Time| Completed Before Meeting  | Discuss at Meeting |\n",
    "|---|---|---|---|\n",
    "| 1/20  |  Discuss on Discord | Read & Think about COGS 108 expectations; brainstorm topics/questions  | Determine best form of communication; Discuss and decide on final project topic; discuss hypothesis; begin background research | \n",
    "| 1/26  |  Discuss on Discord |  Do background research on topic | Discuss ideal dataset(s) and ethics; draft project proposal | \n",
    "| 2/11  | Discuss on Discord  | Edit, finalize, and submit proposal; Search for datasets  | Discuss Wrangling and possible analytical approaches|\n",
    "| 2/18  | Discuss on Discord  | Assign group members to lead each specific part; Import & Wrangle Data (Ant Man); EDA (Hulk) | Review/Edit wrangling/EDA; Discuss Analysis Plan|\n",
    "| 2/25  | Discuss on Discord  | Finalize wrangling/EDA; Begin Analysis | Discuss/edit Analysis; Complete project check-in |\n",
    "| 3/13  | Discuss on Discord  | Complete analysis; Draft results/conclusion/discussion| Review project report; Edit full project |\n",
    "| 3/20  | Before 11:59 PM  | NA | Turn in Final Project & Group Project Surveys |"
   ]
  }
 ],
 "metadata": {
  "kernelspec": {
   "display_name": "Python 3 (ipykernel)",
   "language": "python",
   "name": "python3"
  },
  "language_info": {
   "codemirror_mode": {
    "name": "ipython",
    "version": 3
   },
   "file_extension": ".py",
   "mimetype": "text/x-python",
   "name": "python",
   "nbconvert_exporter": "python",
   "pygments_lexer": "ipython3",
   "version": "3.12.2"
  }
 },
 "nbformat": 4,
 "nbformat_minor": 4
}
